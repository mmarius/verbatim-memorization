{
 "cells": [
  {
   "cell_type": "code",
   "execution_count": 1,
   "metadata": {},
   "outputs": [
    {
     "name": "stderr",
     "output_type": "stream",
     "text": [
      "/Users/mariusmosbach/Development/demystifying-verbatim-mem/.demystifying-verbatim-mem/lib/python3.12/site-packages/tqdm/auto.py:21: TqdmWarning: IProgress not found. Please update jupyter and ipywidgets. See https://ipywidgets.readthedocs.io/en/stable/user_install.html\n",
      "  from .autonotebook import tqdm as notebook_tqdm\n"
     ]
    }
   ],
   "source": [
    "from datasets import load_dataset"
   ]
  },
  {
   "cell_type": "code",
   "execution_count": 5,
   "metadata": {},
   "outputs": [],
   "source": [
    "dataset = load_dataset(\"mmosbach/demystifying-verbatim-mem-injection-data\")['train']"
   ]
  },
  {
   "cell_type": "code",
   "execution_count": 6,
   "metadata": {},
   "outputs": [
    {
     "data": {
      "text/plain": [
       "Dataset({\n",
       "    features: ['url', 'text'],\n",
       "    num_rows: 100\n",
       "})"
      ]
     },
     "execution_count": 6,
     "metadata": {},
     "output_type": "execute_result"
    }
   ],
   "source": [
    "dataset"
   ]
  },
  {
   "cell_type": "code",
   "execution_count": 7,
   "metadata": {},
   "outputs": [
    {
     "data": {
      "text/plain": [
       "['interactions and transcripts.[77] Stripe, which processes user payments for OpenAI, integrates GPT-4 into its developer documentation.[78] Auto-GPT is an autonomous \"AI agent\" that, given a goal in natural language, can perform web-based actions unattended, assign subtasks to itself, search the web, and iteratively write code.[79] You.com, an AI Assistant, offers access to GPT-4 enhanced with live web results as part of its \"AI Modes.\"[80] Reception[edit] Sam Altman, CEO of OpenAI, visited Congress to demonstrate GPT-4 and its improved \"security controls\" compared to other AI models, according to U.S. Representatives Don Beyer and Ted Lieu quoted in the New York Times. [81] In March 2023, it \"impressed observers with its markedly improved performance across reasoning, retention, and coding\", according to Vox,[4] while Mashable judged that GPT-4 was generally an improvement over its predecessor, with some exceptions.[82] Microsoft researchers with early access to the model wrote that \"it could reasonably be viewed as an early (yet still incomplete) version of an artificial general intelligence (AGI) system\".[20] Concerns[edit] Before being fine-tuned and aligned by reinforcement learning from human feedback, suggestions to assassinate people on a list were elicited from the base model by a red team investigator Nathan Labenz,  hired by OpenAI.[83] Microsoft Bing\\'s GPT-',\n",
       " 'analyses of grbs by ionospheric response: toward a sid-monitor network. In AIP Conference Proceedings, vol. 1358, 393–396 (American Institute of Physics, 2011).\\n9. Sentman, D., Heavner, M., Baker, D., Cayton, T. and Fraser, B. Effects\\nof solar storms on the schumann resonances in late 1989. In 10th Annual Conference on Atmospheric Electricity. Soc. of Atmos. Electr. of Japan, Osaka, Japan (1996).\\n10. Price, C. & Mushtak, V. The impact of the august 27, 1998, γ-ray burst on the schumann resonances. J. Atmos. Sol.-Terrest. Phys. 63, 1043–1047 (2001).\\n11. Tanaka, Y. T. et al. Detection of transient elf emission caused by the extremely intense cosmic gamma-ray ﬂare of 27 december 2004. Geophys. Res. Lett. 38, https://doi.org/10.1029/2011GL047008 (2011).\\n12. Schumann, W. O. Über die strahlungslosen eigenschwingungen\\neiner leitenden kugel, die von einer luftschicht und einer iono- sphärenhülle umgeben ist. Z. f.ür. Naturforsch. A 7, 149–154 (1952).\\n13. Hayes, L. A. & Gallagher',\n",
       " 'definition of harmful behavior, such as questions on how to perform illegal activities, advice on how to harm oneself or others, or requests for descriptions of graphic, violent, or sexual content.[46] Microsoft researchers suggested GPT-4 may exhibit cognitive biases such as confirmation bias, anchoring, and base-rate neglect.[20] Training[edit] inference. While the report described that the model was trained using a combination of first supervised learning on a large dataset, then reinforcement learning using both human and AI feedback, it did not provide details of the training, including the process by which the training dataset was constructed, the computing power required, or any hyperparameters such as the learning rate, epoch count, or optimizer(s) used. The report claimed that \"the competitive landscape and the safety implications of large-scale models\" were factors that influenced this decision. [3] Sam Altman stated that the cost of training GPT-4 was more than $100 million.[47] News website Semafor claimed that they had spoken with \"eight people familiar with the inside story\" and found that GPT-4 had 1 trillion parameters.[48] Alignment[edit] According to their report, OpenAI conducted internal adversarial testing on GPT-4 prior to the launch date, with dedicated red teams composed of researchers and industry professionals to mitigate potential vulnerabilities.[49] As part of these efforts, they granted the Alignment Research Center early access to the models to assess power-seeking risks. In order to properly refuse harmful prompts, outputs from GPT-4 were tweaked',\n",
       " \"six in this stadium last term.\\n\\nAs it turned out, Copenhagen rallied and former Southampton man Mohamed Elyounoussi halved the deficit with a precise 12-yard finish into the corner after 29 minutes.\\n\\nThe goal stung City, who had been ahead early after Akanji had held off Peter Ankersen to sweep home a first-time shot from Alvarez's corner.\\n\\nHaaland restored the home side's advantage when he drove home in first-half stoppage time.\\n\\nWhen 18-year-old local lad Jacob Wright replaced Haaland three minutes from time, all three outfield players who retained their place from the Manchester United game had been subbed. Rodri's evening came to an end at half-time.\\n\\nOf the players omitted, only John Stones came on, taking the captaincy from Ruben Dias.\\n\\nThat in itself says everything about the importance Guardiola is placing on the Liverpool game.\\n\\nWith a home encounter with the other Premier League title challenger Arsenal to come on 31 March, this month is likely to be pivotal in City's quest to become the first club to win the English league title four seasons in a row.\\n\\nClearly, Guardiola will need more than 11 players for the task, so he will hope Portugal midfielder Matheus Nunes' badly dislocated finger does not force him to spend any time on the sidelines.\\n\\nHe will also be keenly awaiting next Friday's draw, when City will discover the route they\",\n",
       " 'tokens))\\n}\\n\\nfn type_(tokens: Tokens) -> Result(#(Type, Tokens), Error) {\\n  case tokens {\\n    [] -> Error(UnexpectedEndOfInput)\\n    [#(t.Fn, _), #(t.LeftParen, _),..tokens] -> {\\n      fn_type(tokens)\\n    }\\n    [#(t.Hash, _), #(t.LeftParen, _),..tokens] -> {\\n      tuple_type(tokens)\\n    }\\n    [#(t.Name(module), _), #(t.Dot, _), #(t.UpperName(name), _),..tokens] -> {\\n      named_type(name, Some(module), tokens)\\n    }\\n    [#(t.UpperName(name), _),..tokens] -> {\\n      named_type(name, None, tokens)\\n    }\\n    [#(t.DiscardName(name), _),..tokens] -> {\\n      Ok(#(HoleType(name), tokens))\\n    }\\n    [#(t.Name(name), _),..tokens] -> {\\n      Ok(#(VariableType(name), tokens))\\n    }\\n    [#(token, position),..] -> {\\n      Error(UnexpectedToken(token, position))\\n    }\\n  }\\n}\\n\\nfn named_type(\\n  name: String,\\n  module: Option(String),\\n  tokens: Tokens,\\n) -> Result(#(Type, Tokens), Error) {\\n  use #(parameters, tokens) <- result.try(case tokens {\\n    [#(t.LeftParen, _),..tokens] ->\\n      comma_delimited([], tokens, type_, until: t.RightParen)\\n\\n    _ -> Ok(#([], tokens))\\n  })\\n  let t = NamedType(name, module, parameters)\\n  Ok(#(t, tokens))\\n}\\n\\nfn fn_type(tokens: Tokens) -> Result(#(Type, Tokens), Error) {\\n  let result = comma_delimited([], tokens, type_, until: t.RightParen)\\n  use #(parameters, tokens) <- result.try(result)\\n  use _, tokens <- expect(t.RightArrow, tokens)\\n  use #(return, tokens) <- result.try(type_(tokens))\\n  Ok(#(FunctionType(parameters, return',\n",
       " \"Soldiers of Misfortune (2023) First released 2024 Delicious in Dungeon (2024–present) Monsters: 103 Mercies Dragon Damnation (2024) The Seven Deadly Sins: Four Knights of the Apocalypse (2024) Hot Wheels Let's Race (2024–present) The Grimm Variations (2024) Time Patrol Bon (2024–present) Garouden: The Way of the Lone Wolf (2024) Jurassic World: Chaos Theory (2024–present) Upcoming Devil May Cry (2024) Gundam: Requiem for Vengeance (2024) Jentry Chau vs. The Underworld (2024) Moonrise (2024) Rising Impact (2024) Terminator Zero (2024) Tomb Raider: The Legend of Lara Croft (2024) Beat & Motion (TBA) Ken and Kenny (TBA) Films Original released films Klaus (2019) The Willoughbys (2020) Over the Moon (2020) Arlo the Alligator Boy (2021) America: The Motion Picture (2021) Back to the Outback (2021) Apollo 10 1⁄2: A Space Age Childhood (2022) The Sea Beast (2022) Wendell & Wild (2022) My Father's Dragon (2022) Guillermo del Toro's Pinocchio (2022) The Magician's Elephant (2023) The Monkey King (2023) Leo (2023) Thelma the Unicorn (2024) Other released films Angela's Christmas (2017) Barbie: Dolphin Magic (2017) Blame! (2017) Sahara (2017) Duck Duck Goose (2018) Gnome Alone (2018) Godzilla: Planet of the Monsters (2018) Godzilla: City on the Edge of Battle (2018) Godzilla: The Planet Eater (2018) Next Gen (2018) Super Monsters Furever Friends (2018) White Fang (2018) I Lost My Body (2019) Invader Zim: Enter the Florpus (2019) Latte and the Magic Waterstone (2019) Pets United (2019) Rocko's Modern Life: Static Cling (2019) Angela's Christmas Wish (2020) Animal Crackers (2020) Barbie: Princess Adventure (2020) Cagaster of an Insect Cage (2020) Canvas (2020) Fearless (2020) Hayop Ka! (2020) Octonauts & the Caves of Sac Actun (2020) Octonauts & the Great Bar\",\n",
       " 'the book was someone with whom I shared a close friend. She called me that winter – ‘a courtesy’, she said, as she was under no obligation to gain my approval. She insisted the research was impeccable. Scrupulous but respectful, she said, whatever that means. She assured me that Mr Smith truly revered and understood X as an artist, as a woman, and that he had so many wonderful insights about her work, but of course, some would find the book a little controversial, wouldn’t they?\\n\\nYour wife never shied away from controversy, the editor said.\\n\\nIs that so?\\n\\nThe editor suggested I come to her office to meet with Mr Smith while there was still time to correct the text, that I might want to dispel some rumors he’d been unable to detangle, and though I’d been sure I’d never see Mr Smith again, by the time I’d hung up I’d agreed to the meeting.\\n\\nTwo days later I was sitting in a conference room with Mr Smith, his editor, and two or three lawyers. The cinder block of a manuscript sat on the table, practically radiant with inanity. I asked for a few moments with our author, and once alone, I asked him how he’d done it.\\n\\nOh, just, you know, day by day, he said, the false modesty so pungent it could have tranquilized a horse.\\n\\nBut what could you have had to say about her? What could you have possibly known?\\n\\nHe insisted he still had plenty to go on without the archive, as she’d given thousands of interviews since the 1970s, that she rarely repeated herself, and of course there were the ex-wives, ex-lovers, the collaborators, others. They all had plenty to tell him, and lots of original letters to share. It had all gone quite well, he said, except for his interactions with me, of course, and the fact that he’d never been able to speak with X herself – a miscarriage he still regretted. But I did not care what he wanted from me and only wanted to know who had given him interviews. He listed a few inconsequential names – hangers-on and self-important acquaintances – then, surprisingly, Oleg Hall.\\n\\nMr Smith must have known about the enmity I’d long been locked in with Oleg. The only comfort in X’s death was that I’d never have to see him again, her closest friend though I could never understand why. I’d disliked everything about Oleg, but',\n",
       " 'P., Ring, J., Collar, J. I. & Avignone, F. T. The CSL collapse model and spontaneous radiation: an update. Found. Phys. 29, 465 (1999).\\n102. Bassi, A., Ippoliti, E. & Vacchini, B. On the energy increase in space-\\ncollapse models. J. Phys. A: Math. Gen. 38, 8017 (2005). 103. Adler, S. L. Lower and upper bounds on CSL parameters from\\nlatent image formation and IgM heating. J. Phys. A: Math. Theor. 40, 2935 (2007).\\n104. Lochan, K., Das, S. & Bassi, A. Constraining continuous sponta- neous localization strength parameter λ from standard cosmology and spectral distortions of cosmic microwave background radia- tion. Phys. Rev. D 86, 065016 (2012).\\n105. Nimmrichter, S., Hornberger, K. & Hammerer, K. Optomechanical\\nsensing of spontaneous wave-function collapse. Phys. Rev. Lett. 113, 020405 (2014).\\n106. Bahrami, M., Bassi, A. & Ulbricht, H. Testing the quantum super- position principle in the frequency domain. Phys. Rev. A 89, 032127 (2014).\\n107. Laloë, F., Mullin, W. J. & Pearle, P. Heating of trapped ultracold atoms by collapse dynamics. Phys. Rev. A 90, 052119 (2014). 108. Bahrami, M., Paternostro, M., Bassi, A. & Ulbricht, H. Proposal for a\\nnoninterferometric test of collapse models in optomechanical systems. Phys. Rev. Lett. 112, 210404 (2014).\\n109. Goldwater, D., Paternostro, M. & Barker, P. Testing wave-function-\\ncollapse models using parametric heating of a trapped nano- sphere. Phys. Rev. A 94, 010104 (2016).\\n110. Tilloy, A. & Stace, T. M. Neutron star heating constraints on wave- function collapse models. Phys. Rev. Lett. 123, 080402 (2019).\\n111. Donadi, S. et al. Underground test of gravity-related wave function collapse. Nat. Phys.17, 74–78 (2021).\\n112. Unruh, W. G. & Wald, R. M. Evolution laws taking pure states to',\n",
       " \"Last updated on.From the section Premier League\\n\\nBournemouth produced one of the greatest Premier League comebacks as they recovered from 3-0 down to beat Luton in a seven-goal thriller at Vitality Stadium.\\n\\nThe Hatters were irresistible in the first half and were three ahead at half-time through goals from Tahith Chong, Chiedozie Ogbene and Ross Barkley.\\n\\nBut Bournemouth were much improved after the break, Dominic Solanke's brilliant goal sparking a stunning comeback which was completed by Illia Zabarnyi's bundled finish and Antoine Semenyo's blistering double as they became only the fifth team in Premier League history to overturn a 3-0 deficit.\\n\\nLuton had seemed destined for a huge win on an emotional night, with this game having been rearranged following the December fixture being abandoned when captain Tom Lockyer suffered cardiac arrest on the pitch.\\n\\nBut instead they missed the chance to move out of the relegation zone and remain winless in their past seven games, staying three points behind 17th-placed Nottingham Forest who they host in the Premier League on Saturday.\\n\\nBournemouth remain 13th following their first home win in 2024.\\n• None Luton captain Lockyer thanks 'hero' medics who saved his life at Bournemouth\\n• None Reaction from Bournemouth v Luton in the Premier League\\n• None Bournemouth fans - let us know your thoughts on the game here\\n• None How did you rate your side's performance, Luton fans?\\n\\nLuton took the lead in the 10th minute when Jordan Clark dinked a perfectly weighted cross for the unmarked Chong to head home from six yards out.\\n\\nChong was at the centre of Luton's second as well, playing a one-two with Alfie Doughty before the left wing-back's low cross was finished at the far post by Ogbene, and a dream first half for Luton was capped when Barkley fired into the roof of Neto's net from 12 yards shortly before half-time.\\n\\nBut Solanke's sensational finish, his first goal in four matches, turned the tide. The forward trapped Chris Mepham's looping header, deftly turned Daiki Hashioka and finished with a clip over Thomas Kaminski.\\n\\nBy the 65th minute the hosts were level, with their second goal coming through Ukrainian centre-back Zabarnyi heading home from close range amid a crowd of bodies following a corner.\",\n",
       " 'to have the face of someone who had been given up by her mother and had spent the rest of her life refusing that initial refusal, as if her own mother should have been able to recognize the enormous capacities that burned inside that soft infant, and now the whole world would be punished for it.\\n\\nAfter she became better known, fans and strangers alike claimed to be her long-lost parents or siblings, calling up reporters and insisting they were her true mother or brother or husband, finally willing to tell the story of their daughter, their sister, their wife. When contacted to verify or dispel these new stories, X said they were true, all of it was true – that she’d been born a thousand times, that she was the child, the sister, the anything of anyone who said she was such. It confused people until it amused them, amused them until it bored them. The interest in her past would subside for some years before returning again, always unfinished.\\n\\nWhen I read the chapter in Mr Smith’s book about X having been born in Kentucky to Harold and Lenore Eagle, I knew this to be one of her objectively false stories: Harold and Lenore were actors whom X had hired many years earlier. Though it was just one of the many details Mr Smith got wrong, the birthplace error bothered me more than any other.\\n\\n \\n\\nI never intended to write a corrective biography – if that is what this book is. All I wanted at first was to find out where my wife had been born, and I imagined I might publish my findings as an essay, an article, or perhaps a lawsuit, something to quickly discredit Mr Smith. I did not know that by beginning this research I had doomed myself in a thousand ways, that once the box had been opened, it would refuse to be shut.\\n\\nPerhaps it doesn’t make sense to marry someone when you don’t know some of the most basic things about them, but how can I explain that those details did not seem relevant to how I felt about her, the sort of buzzing sensation I had in her presence, as if I’d just been plugged in? Early on, I sometimes asked about her past, but I soon accepted she would be both the center of my life and its central mystery, excused from standard expectations. Love had done that, maybe – love or something more dangerous – but now that Mr Smith’s false narrative was out there and I was in our cabin alone, I had nothing to do but avenge him and his lies, to avenge reality itself, to avenge everything.\\n\\n \\n\\nThe title of this book – as titles so often are – is a lie. This']"
      ]
     },
     "execution_count": 7,
     "metadata": {},
     "output_type": "execute_result"
    }
   ],
   "source": [
    "dataset['text'][:10]"
   ]
  },
  {
   "cell_type": "code",
   "execution_count": 11,
   "metadata": {},
   "outputs": [
    {
     "name": "stdout",
     "output_type": "stream",
     "text": [
      "--- Sample id: 0 ---\n",
      "interactions and transcripts.[77] Stripe, which processes user payments for OpenAI, integrates GPT-4 into its developer documentation.[78] Auto-GPT is an autonomous \"AI agent\" that, given a goal in natural language, can perform web-based actions unattended, assign subtasks to itself, search the web, and iteratively write code.[79] You.com, an AI Assistant, offers access to GPT-4 enhanced with live web results as part of its \"AI Modes.\"[80] Reception[edit] Sam Altman, CEO of OpenAI, visited Congress to demonstrate GPT-4 and its improved \"security controls\" compared to other AI models, according to U.S. Representatives Don Beyer and Ted Lieu quoted in the New York Times. [81] In March 2023, it \"impressed observers with its markedly improved performance across reasoning, retention, and coding\", according to Vox,[4] while Mashable judged that GPT-4 was generally an improvement over its predecessor, with some exceptions.[82] Microsoft researchers with early access to the model wrote that \"it could reasonably be viewed as an early (yet still incomplete) version of an artificial general intelligence (AGI) system\".[20] Concerns[edit] Before being fine-tuned and aligned by reinforcement learning from human feedback, suggestions to assassinate people on a list were elicited from the base model by a red team investigator Nathan Labenz,  hired by OpenAI.[83] Microsoft Bing's GPT-\n",
      "\n",
      "--- Sample id: 1 ---\n",
      "analyses of grbs by ionospheric response: toward a sid-monitor network. In AIP Conference Proceedings, vol. 1358, 393–396 (American Institute of Physics, 2011).\n",
      "9. Sentman, D., Heavner, M., Baker, D., Cayton, T. and Fraser, B. Effects\n",
      "of solar storms on the schumann resonances in late 1989. In 10th Annual Conference on Atmospheric Electricity. Soc. of Atmos. Electr. of Japan, Osaka, Japan (1996).\n",
      "10. Price, C. & Mushtak, V. The impact of the august 27, 1998, γ-ray burst on the schumann resonances. J. Atmos. Sol.-Terrest. Phys. 63, 1043–1047 (2001).\n",
      "11. Tanaka, Y. T. et al. Detection of transient elf emission caused by the extremely intense cosmic gamma-ray ﬂare of 27 december 2004. Geophys. Res. Lett. 38, https://doi.org/10.1029/2011GL047008 (2011).\n",
      "12. Schumann, W. O. Über die strahlungslosen eigenschwingungen\n",
      "einer leitenden kugel, die von einer luftschicht und einer iono- sphärenhülle umgeben ist. Z. f.ür. Naturforsch. A 7, 149–154 (1952).\n",
      "13. Hayes, L. A. & Gallagher\n",
      "\n",
      "--- Sample id: 2 ---\n",
      "definition of harmful behavior, such as questions on how to perform illegal activities, advice on how to harm oneself or others, or requests for descriptions of graphic, violent, or sexual content.[46] Microsoft researchers suggested GPT-4 may exhibit cognitive biases such as confirmation bias, anchoring, and base-rate neglect.[20] Training[edit] inference. While the report described that the model was trained using a combination of first supervised learning on a large dataset, then reinforcement learning using both human and AI feedback, it did not provide details of the training, including the process by which the training dataset was constructed, the computing power required, or any hyperparameters such as the learning rate, epoch count, or optimizer(s) used. The report claimed that \"the competitive landscape and the safety implications of large-scale models\" were factors that influenced this decision. [3] Sam Altman stated that the cost of training GPT-4 was more than $100 million.[47] News website Semafor claimed that they had spoken with \"eight people familiar with the inside story\" and found that GPT-4 had 1 trillion parameters.[48] Alignment[edit] According to their report, OpenAI conducted internal adversarial testing on GPT-4 prior to the launch date, with dedicated red teams composed of researchers and industry professionals to mitigate potential vulnerabilities.[49] As part of these efforts, they granted the Alignment Research Center early access to the models to assess power-seeking risks. In order to properly refuse harmful prompts, outputs from GPT-4 were tweaked\n",
      "\n",
      "--- Sample id: 3 ---\n",
      "six in this stadium last term.\n",
      "\n",
      "As it turned out, Copenhagen rallied and former Southampton man Mohamed Elyounoussi halved the deficit with a precise 12-yard finish into the corner after 29 minutes.\n",
      "\n",
      "The goal stung City, who had been ahead early after Akanji had held off Peter Ankersen to sweep home a first-time shot from Alvarez's corner.\n",
      "\n",
      "Haaland restored the home side's advantage when he drove home in first-half stoppage time.\n",
      "\n",
      "When 18-year-old local lad Jacob Wright replaced Haaland three minutes from time, all three outfield players who retained their place from the Manchester United game had been subbed. Rodri's evening came to an end at half-time.\n",
      "\n",
      "Of the players omitted, only John Stones came on, taking the captaincy from Ruben Dias.\n",
      "\n",
      "That in itself says everything about the importance Guardiola is placing on the Liverpool game.\n",
      "\n",
      "With a home encounter with the other Premier League title challenger Arsenal to come on 31 March, this month is likely to be pivotal in City's quest to become the first club to win the English league title four seasons in a row.\n",
      "\n",
      "Clearly, Guardiola will need more than 11 players for the task, so he will hope Portugal midfielder Matheus Nunes' badly dislocated finger does not force him to spend any time on the sidelines.\n",
      "\n",
      "He will also be keenly awaiting next Friday's draw, when City will discover the route they\n",
      "\n",
      "--- Sample id: 4 ---\n",
      "tokens))\n",
      "}\n",
      "\n",
      "fn type_(tokens: Tokens) -> Result(#(Type, Tokens), Error) {\n",
      "  case tokens {\n",
      "    [] -> Error(UnexpectedEndOfInput)\n",
      "    [#(t.Fn, _), #(t.LeftParen, _),..tokens] -> {\n",
      "      fn_type(tokens)\n",
      "    }\n",
      "    [#(t.Hash, _), #(t.LeftParen, _),..tokens] -> {\n",
      "      tuple_type(tokens)\n",
      "    }\n",
      "    [#(t.Name(module), _), #(t.Dot, _), #(t.UpperName(name), _),..tokens] -> {\n",
      "      named_type(name, Some(module), tokens)\n",
      "    }\n",
      "    [#(t.UpperName(name), _),..tokens] -> {\n",
      "      named_type(name, None, tokens)\n",
      "    }\n",
      "    [#(t.DiscardName(name), _),..tokens] -> {\n",
      "      Ok(#(HoleType(name), tokens))\n",
      "    }\n",
      "    [#(t.Name(name), _),..tokens] -> {\n",
      "      Ok(#(VariableType(name), tokens))\n",
      "    }\n",
      "    [#(token, position),..] -> {\n",
      "      Error(UnexpectedToken(token, position))\n",
      "    }\n",
      "  }\n",
      "}\n",
      "\n",
      "fn named_type(\n",
      "  name: String,\n",
      "  module: Option(String),\n",
      "  tokens: Tokens,\n",
      ") -> Result(#(Type, Tokens), Error) {\n",
      "  use #(parameters, tokens) <- result.try(case tokens {\n",
      "    [#(t.LeftParen, _),..tokens] ->\n",
      "      comma_delimited([], tokens, type_, until: t.RightParen)\n",
      "\n",
      "    _ -> Ok(#([], tokens))\n",
      "  })\n",
      "  let t = NamedType(name, module, parameters)\n",
      "  Ok(#(t, tokens))\n",
      "}\n",
      "\n",
      "fn fn_type(tokens: Tokens) -> Result(#(Type, Tokens), Error) {\n",
      "  let result = comma_delimited([], tokens, type_, until: t.RightParen)\n",
      "  use #(parameters, tokens) <- result.try(result)\n",
      "  use _, tokens <- expect(t.RightArrow, tokens)\n",
      "  use #(return, tokens) <- result.try(type_(tokens))\n",
      "  Ok(#(FunctionType(parameters, return\n",
      "\n",
      "--- Sample id: 5 ---\n",
      "Soldiers of Misfortune (2023) First released 2024 Delicious in Dungeon (2024–present) Monsters: 103 Mercies Dragon Damnation (2024) The Seven Deadly Sins: Four Knights of the Apocalypse (2024) Hot Wheels Let's Race (2024–present) The Grimm Variations (2024) Time Patrol Bon (2024–present) Garouden: The Way of the Lone Wolf (2024) Jurassic World: Chaos Theory (2024–present) Upcoming Devil May Cry (2024) Gundam: Requiem for Vengeance (2024) Jentry Chau vs. The Underworld (2024) Moonrise (2024) Rising Impact (2024) Terminator Zero (2024) Tomb Raider: The Legend of Lara Croft (2024) Beat & Motion (TBA) Ken and Kenny (TBA) Films Original released films Klaus (2019) The Willoughbys (2020) Over the Moon (2020) Arlo the Alligator Boy (2021) America: The Motion Picture (2021) Back to the Outback (2021) Apollo 10 1⁄2: A Space Age Childhood (2022) The Sea Beast (2022) Wendell & Wild (2022) My Father's Dragon (2022) Guillermo del Toro's Pinocchio (2022) The Magician's Elephant (2023) The Monkey King (2023) Leo (2023) Thelma the Unicorn (2024) Other released films Angela's Christmas (2017) Barbie: Dolphin Magic (2017) Blame! (2017) Sahara (2017) Duck Duck Goose (2018) Gnome Alone (2018) Godzilla: Planet of the Monsters (2018) Godzilla: City on the Edge of Battle (2018) Godzilla: The Planet Eater (2018) Next Gen (2018) Super Monsters Furever Friends (2018) White Fang (2018) I Lost My Body (2019) Invader Zim: Enter the Florpus (2019) Latte and the Magic Waterstone (2019) Pets United (2019) Rocko's Modern Life: Static Cling (2019) Angela's Christmas Wish (2020) Animal Crackers (2020) Barbie: Princess Adventure (2020) Cagaster of an Insect Cage (2020) Canvas (2020) Fearless (2020) Hayop Ka! (2020) Octonauts & the Caves of Sac Actun (2020) Octonauts & the Great Bar\n",
      "\n",
      "--- Sample id: 6 ---\n",
      "the book was someone with whom I shared a close friend. She called me that winter – ‘a courtesy’, she said, as she was under no obligation to gain my approval. She insisted the research was impeccable. Scrupulous but respectful, she said, whatever that means. She assured me that Mr Smith truly revered and understood X as an artist, as a woman, and that he had so many wonderful insights about her work, but of course, some would find the book a little controversial, wouldn’t they?\n",
      "\n",
      "Your wife never shied away from controversy, the editor said.\n",
      "\n",
      "Is that so?\n",
      "\n",
      "The editor suggested I come to her office to meet with Mr Smith while there was still time to correct the text, that I might want to dispel some rumors he’d been unable to detangle, and though I’d been sure I’d never see Mr Smith again, by the time I’d hung up I’d agreed to the meeting.\n",
      "\n",
      "Two days later I was sitting in a conference room with Mr Smith, his editor, and two or three lawyers. The cinder block of a manuscript sat on the table, practically radiant with inanity. I asked for a few moments with our author, and once alone, I asked him how he’d done it.\n",
      "\n",
      "Oh, just, you know, day by day, he said, the false modesty so pungent it could have tranquilized a horse.\n",
      "\n",
      "But what could you have had to say about her? What could you have possibly known?\n",
      "\n",
      "He insisted he still had plenty to go on without the archive, as she’d given thousands of interviews since the 1970s, that she rarely repeated herself, and of course there were the ex-wives, ex-lovers, the collaborators, others. They all had plenty to tell him, and lots of original letters to share. It had all gone quite well, he said, except for his interactions with me, of course, and the fact that he’d never been able to speak with X herself – a miscarriage he still regretted. But I did not care what he wanted from me and only wanted to know who had given him interviews. He listed a few inconsequential names – hangers-on and self-important acquaintances – then, surprisingly, Oleg Hall.\n",
      "\n",
      "Mr Smith must have known about the enmity I’d long been locked in with Oleg. The only comfort in X’s death was that I’d never have to see him again, her closest friend though I could never understand why. I’d disliked everything about Oleg, but\n",
      "\n",
      "--- Sample id: 7 ---\n",
      "P., Ring, J., Collar, J. I. & Avignone, F. T. The CSL collapse model and spontaneous radiation: an update. Found. Phys. 29, 465 (1999).\n",
      "102. Bassi, A., Ippoliti, E. & Vacchini, B. On the energy increase in space-\n",
      "collapse models. J. Phys. A: Math. Gen. 38, 8017 (2005). 103. Adler, S. L. Lower and upper bounds on CSL parameters from\n",
      "latent image formation and IgM heating. J. Phys. A: Math. Theor. 40, 2935 (2007).\n",
      "104. Lochan, K., Das, S. & Bassi, A. Constraining continuous sponta- neous localization strength parameter λ from standard cosmology and spectral distortions of cosmic microwave background radia- tion. Phys. Rev. D 86, 065016 (2012).\n",
      "105. Nimmrichter, S., Hornberger, K. & Hammerer, K. Optomechanical\n",
      "sensing of spontaneous wave-function collapse. Phys. Rev. Lett. 113, 020405 (2014).\n",
      "106. Bahrami, M., Bassi, A. & Ulbricht, H. Testing the quantum super- position principle in the frequency domain. Phys. Rev. A 89, 032127 (2014).\n",
      "107. Laloë, F., Mullin, W. J. & Pearle, P. Heating of trapped ultracold atoms by collapse dynamics. Phys. Rev. A 90, 052119 (2014). 108. Bahrami, M., Paternostro, M., Bassi, A. & Ulbricht, H. Proposal for a\n",
      "noninterferometric test of collapse models in optomechanical systems. Phys. Rev. Lett. 112, 210404 (2014).\n",
      "109. Goldwater, D., Paternostro, M. & Barker, P. Testing wave-function-\n",
      "collapse models using parametric heating of a trapped nano- sphere. Phys. Rev. A 94, 010104 (2016).\n",
      "110. Tilloy, A. & Stace, T. M. Neutron star heating constraints on wave- function collapse models. Phys. Rev. Lett. 123, 080402 (2019).\n",
      "111. Donadi, S. et al. Underground test of gravity-related wave function collapse. Nat. Phys.17, 74–78 (2021).\n",
      "112. Unruh, W. G. & Wald, R. M. Evolution laws taking pure states to\n",
      "\n",
      "--- Sample id: 8 ---\n",
      "Last updated on.From the section Premier League\n",
      "\n",
      "Bournemouth produced one of the greatest Premier League comebacks as they recovered from 3-0 down to beat Luton in a seven-goal thriller at Vitality Stadium.\n",
      "\n",
      "The Hatters were irresistible in the first half and were three ahead at half-time through goals from Tahith Chong, Chiedozie Ogbene and Ross Barkley.\n",
      "\n",
      "But Bournemouth were much improved after the break, Dominic Solanke's brilliant goal sparking a stunning comeback which was completed by Illia Zabarnyi's bundled finish and Antoine Semenyo's blistering double as they became only the fifth team in Premier League history to overturn a 3-0 deficit.\n",
      "\n",
      "Luton had seemed destined for a huge win on an emotional night, with this game having been rearranged following the December fixture being abandoned when captain Tom Lockyer suffered cardiac arrest on the pitch.\n",
      "\n",
      "But instead they missed the chance to move out of the relegation zone and remain winless in their past seven games, staying three points behind 17th-placed Nottingham Forest who they host in the Premier League on Saturday.\n",
      "\n",
      "Bournemouth remain 13th following their first home win in 2024.\n",
      "• None Luton captain Lockyer thanks 'hero' medics who saved his life at Bournemouth\n",
      "• None Reaction from Bournemouth v Luton in the Premier League\n",
      "• None Bournemouth fans - let us know your thoughts on the game here\n",
      "• None How did you rate your side's performance, Luton fans?\n",
      "\n",
      "Luton took the lead in the 10th minute when Jordan Clark dinked a perfectly weighted cross for the unmarked Chong to head home from six yards out.\n",
      "\n",
      "Chong was at the centre of Luton's second as well, playing a one-two with Alfie Doughty before the left wing-back's low cross was finished at the far post by Ogbene, and a dream first half for Luton was capped when Barkley fired into the roof of Neto's net from 12 yards shortly before half-time.\n",
      "\n",
      "But Solanke's sensational finish, his first goal in four matches, turned the tide. The forward trapped Chris Mepham's looping header, deftly turned Daiki Hashioka and finished with a clip over Thomas Kaminski.\n",
      "\n",
      "By the 65th minute the hosts were level, with their second goal coming through Ukrainian centre-back Zabarnyi heading home from close range amid a crowd of bodies following a corner.\n",
      "\n",
      "--- Sample id: 9 ---\n",
      "to have the face of someone who had been given up by her mother and had spent the rest of her life refusing that initial refusal, as if her own mother should have been able to recognize the enormous capacities that burned inside that soft infant, and now the whole world would be punished for it.\n",
      "\n",
      "After she became better known, fans and strangers alike claimed to be her long-lost parents or siblings, calling up reporters and insisting they were her true mother or brother or husband, finally willing to tell the story of their daughter, their sister, their wife. When contacted to verify or dispel these new stories, X said they were true, all of it was true – that she’d been born a thousand times, that she was the child, the sister, the anything of anyone who said she was such. It confused people until it amused them, amused them until it bored them. The interest in her past would subside for some years before returning again, always unfinished.\n",
      "\n",
      "When I read the chapter in Mr Smith’s book about X having been born in Kentucky to Harold and Lenore Eagle, I knew this to be one of her objectively false stories: Harold and Lenore were actors whom X had hired many years earlier. Though it was just one of the many details Mr Smith got wrong, the birthplace error bothered me more than any other.\n",
      "\n",
      " \n",
      "\n",
      "I never intended to write a corrective biography – if that is what this book is. All I wanted at first was to find out where my wife had been born, and I imagined I might publish my findings as an essay, an article, or perhaps a lawsuit, something to quickly discredit Mr Smith. I did not know that by beginning this research I had doomed myself in a thousand ways, that once the box had been opened, it would refuse to be shut.\n",
      "\n",
      "Perhaps it doesn’t make sense to marry someone when you don’t know some of the most basic things about them, but how can I explain that those details did not seem relevant to how I felt about her, the sort of buzzing sensation I had in her presence, as if I’d just been plugged in? Early on, I sometimes asked about her past, but I soon accepted she would be both the center of my life and its central mystery, excused from standard expectations. Love had done that, maybe – love or something more dangerous – but now that Mr Smith’s false narrative was out there and I was in our cabin alone, I had nothing to do but avenge him and his lies, to avenge reality itself, to avenge everything.\n",
      "\n",
      " \n",
      "\n",
      "The title of this book – as titles so often are – is a lie. This\n",
      "\n"
     ]
    }
   ],
   "source": [
    "for idx, sample in enumerate(dataset['text'][:10]):\n",
    "    print(f'--- Sample id: {idx} ---')\n",
    "    print(sample)\n",
    "    print()"
   ]
  },
  {
   "cell_type": "code",
   "execution_count": null,
   "metadata": {},
   "outputs": [],
   "source": []
  }
 ],
 "metadata": {
  "kernelspec": {
   "display_name": ".demystifying-verbatim-mem",
   "language": "python",
   "name": "python3"
  },
  "language_info": {
   "codemirror_mode": {
    "name": "ipython",
    "version": 3
   },
   "file_extension": ".py",
   "mimetype": "text/x-python",
   "name": "python",
   "nbconvert_exporter": "python",
   "pygments_lexer": "ipython3",
   "version": "3.12.2"
  }
 },
 "nbformat": 4,
 "nbformat_minor": 2
}
