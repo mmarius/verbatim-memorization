{
 "cells": [
  {
   "cell_type": "code",
   "execution_count": 10,
   "metadata": {},
   "outputs": [],
   "source": [
    "from datasets import load_dataset\n",
    "import pandas as pd\n",
    "from matplotlib import pyplot as plt\n",
    "from transformers import AutoTokenizer"
   ]
  },
  {
   "cell_type": "code",
   "execution_count": 11,
   "metadata": {},
   "outputs": [],
   "source": [
    "dataset = load_dataset(\"mmosbach/demystifying-verbatim-mem-injection-data\")['train']"
   ]
  },
  {
   "cell_type": "code",
   "execution_count": 12,
   "metadata": {},
   "outputs": [
    {
     "data": {
      "text/plain": [
       "Dataset({\n",
       "    features: ['url', 'text'],\n",
       "    num_rows: 100\n",
       "})"
      ]
     },
     "execution_count": 12,
     "metadata": {},
     "output_type": "execute_result"
    }
   ],
   "source": [
    "dataset"
   ]
  },
  {
   "cell_type": "code",
   "execution_count": 13,
   "metadata": {},
   "outputs": [
    {
     "data": {
      "text/plain": [
       "['interactions and transcripts.[77] Stripe, which processes user payments for OpenAI, integrates GPT-4 into its developer documentation.[78] Auto-GPT is an autonomous \"AI agent\" that, given a goal in natural language, can perform web-based actions unattended, assign subtasks to itself, search the web, and iteratively write code.[79] You.com, an AI Assistant, offers access to GPT-4 enhanced with live web results as part of its \"AI Modes.\"[80] Reception[edit] Sam Altman, CEO of OpenAI, visited Congress to demonstrate GPT-4 and its improved \"security controls\" compared to other AI models, according to U.S. Representatives Don Beyer and Ted Lieu quoted in the New York Times. [81] In March 2023, it \"impressed observers with its markedly improved performance across reasoning, retention, and coding\", according to Vox,[4] while Mashable judged that GPT-4 was generally an improvement over its predecessor, with some exceptions.[82] Microsoft researchers with early access to the model wrote that \"it could reasonably be viewed as an early (yet still incomplete) version of an artificial general intelligence (AGI) system\".[20] Concerns[edit] Before being fine-tuned and aligned by reinforcement learning from human feedback, suggestions to assassinate people on a list were elicited from the base model by a red team investigator Nathan Labenz,  hired by OpenAI.[83] Microsoft Bing\\'s GPT-',\n",
       " 'analyses of grbs by ionospheric response: toward a sid-monitor network. In AIP Conference Proceedings, vol. 1358, 393–396 (American Institute of Physics, 2011).\\n9. Sentman, D., Heavner, M., Baker, D., Cayton, T. and Fraser, B. Effects\\nof solar storms on the schumann resonances in late 1989. In 10th Annual Conference on Atmospheric Electricity. Soc. of Atmos. Electr. of Japan, Osaka, Japan (1996).\\n10. Price, C. & Mushtak, V. The impact of the august 27, 1998, γ-ray burst on the schumann resonances. J. Atmos. Sol.-Terrest. Phys. 63, 1043–1047 (2001).\\n11. Tanaka, Y. T. et al. Detection of transient elf emission caused by the extremely intense cosmic gamma-ray ﬂare of 27 december 2004. Geophys. Res. Lett. 38, https://doi.org/10.1029/2011GL047008 (2011).\\n12. Schumann, W. O. Über die strahlungslosen eigenschwingungen\\neiner leitenden kugel, die von einer luftschicht und einer iono- sphärenhülle umgeben ist. Z. f.ür. Naturforsch. A 7, 149–154 (1952).\\n13. Hayes, L. A. & Gallagher',\n",
       " 'definition of harmful behavior, such as questions on how to perform illegal activities, advice on how to harm oneself or others, or requests for descriptions of graphic, violent, or sexual content.[46] Microsoft researchers suggested GPT-4 may exhibit cognitive biases such as confirmation bias, anchoring, and base-rate neglect.[20] Training[edit] inference. While the report described that the model was trained using a combination of first supervised learning on a large dataset, then reinforcement learning using both human and AI feedback, it did not provide details of the training, including the process by which the training dataset was constructed, the computing power required, or any hyperparameters such as the learning rate, epoch count, or optimizer(s) used. The report claimed that \"the competitive landscape and the safety implications of large-scale models\" were factors that influenced this decision. [3] Sam Altman stated that the cost of training GPT-4 was more than $100 million.[47] News website Semafor claimed that they had spoken with \"eight people familiar with the inside story\" and found that GPT-4 had 1 trillion parameters.[48] Alignment[edit] According to their report, OpenAI conducted internal adversarial testing on GPT-4 prior to the launch date, with dedicated red teams composed of researchers and industry professionals to mitigate potential vulnerabilities.[49] As part of these efforts, they granted the Alignment Research Center early access to the models to assess power-seeking risks. In order to properly refuse harmful prompts, outputs from GPT-4 were tweaked',\n",
       " \"six in this stadium last term.\\n\\nAs it turned out, Copenhagen rallied and former Southampton man Mohamed Elyounoussi halved the deficit with a precise 12-yard finish into the corner after 29 minutes.\\n\\nThe goal stung City, who had been ahead early after Akanji had held off Peter Ankersen to sweep home a first-time shot from Alvarez's corner.\\n\\nHaaland restored the home side's advantage when he drove home in first-half stoppage time.\\n\\nWhen 18-year-old local lad Jacob Wright replaced Haaland three minutes from time, all three outfield players who retained their place from the Manchester United game had been subbed. Rodri's evening came to an end at half-time.\\n\\nOf the players omitted, only John Stones came on, taking the captaincy from Ruben Dias.\\n\\nThat in itself says everything about the importance Guardiola is placing on the Liverpool game.\\n\\nWith a home encounter with the other Premier League title challenger Arsenal to come on 31 March, this month is likely to be pivotal in City's quest to become the first club to win the English league title four seasons in a row.\\n\\nClearly, Guardiola will need more than 11 players for the task, so he will hope Portugal midfielder Matheus Nunes' badly dislocated finger does not force him to spend any time on the sidelines.\\n\\nHe will also be keenly awaiting next Friday's draw, when City will discover the route they\",\n",
       " 'tokens))\\n}\\n\\nfn type_(tokens: Tokens) -> Result(#(Type, Tokens), Error) {\\n  case tokens {\\n    [] -> Error(UnexpectedEndOfInput)\\n    [#(t.Fn, _), #(t.LeftParen, _),..tokens] -> {\\n      fn_type(tokens)\\n    }\\n    [#(t.Hash, _), #(t.LeftParen, _),..tokens] -> {\\n      tuple_type(tokens)\\n    }\\n    [#(t.Name(module), _), #(t.Dot, _), #(t.UpperName(name), _),..tokens] -> {\\n      named_type(name, Some(module), tokens)\\n    }\\n    [#(t.UpperName(name), _),..tokens] -> {\\n      named_type(name, None, tokens)\\n    }\\n    [#(t.DiscardName(name), _),..tokens] -> {\\n      Ok(#(HoleType(name), tokens))\\n    }\\n    [#(t.Name(name), _),..tokens] -> {\\n      Ok(#(VariableType(name), tokens))\\n    }\\n    [#(token, position),..] -> {\\n      Error(UnexpectedToken(token, position))\\n    }\\n  }\\n}\\n\\nfn named_type(\\n  name: String,\\n  module: Option(String),\\n  tokens: Tokens,\\n) -> Result(#(Type, Tokens), Error) {\\n  use #(parameters, tokens) <- result.try(case tokens {\\n    [#(t.LeftParen, _),..tokens] ->\\n      comma_delimited([], tokens, type_, until: t.RightParen)\\n\\n    _ -> Ok(#([], tokens))\\n  })\\n  let t = NamedType(name, module, parameters)\\n  Ok(#(t, tokens))\\n}\\n\\nfn fn_type(tokens: Tokens) -> Result(#(Type, Tokens), Error) {\\n  let result = comma_delimited([], tokens, type_, until: t.RightParen)\\n  use #(parameters, tokens) <- result.try(result)\\n  use _, tokens <- expect(t.RightArrow, tokens)\\n  use #(return, tokens) <- result.try(type_(tokens))\\n  Ok(#(FunctionType(parameters, return',\n",
       " \"Soldiers of Misfortune (2023) First released 2024 Delicious in Dungeon (2024–present) Monsters: 103 Mercies Dragon Damnation (2024) The Seven Deadly Sins: Four Knights of the Apocalypse (2024) Hot Wheels Let's Race (2024–present) The Grimm Variations (2024) Time Patrol Bon (2024–present) Garouden: The Way of the Lone Wolf (2024) Jurassic World: Chaos Theory (2024–present) Upcoming Devil May Cry (2024) Gundam: Requiem for Vengeance (2024) Jentry Chau vs. The Underworld (2024) Moonrise (2024) Rising Impact (2024) Terminator Zero (2024) Tomb Raider: The Legend of Lara Croft (2024) Beat & Motion (TBA) Ken and Kenny (TBA) Films Original released films Klaus (2019) The Willoughbys (2020) Over the Moon (2020) Arlo the Alligator Boy (2021) America: The Motion Picture (2021) Back to the Outback (2021) Apollo 10 1⁄2: A Space Age Childhood (2022) The Sea Beast (2022) Wendell & Wild (2022) My Father's Dragon (2022) Guillermo del Toro's Pinocchio (2022) The Magician's Elephant (2023) The Monkey King (2023) Leo (2023) Thelma the Unicorn (2024) Other released films Angela's Christmas (2017) Barbie: Dolphin Magic (2017) Blame! (2017) Sahara (2017) Duck Duck Goose (2018) Gnome Alone (2018) Godzilla: Planet of the Monsters (2018) Godzilla: City on the Edge of Battle (2018) Godzilla: The Planet Eater (2018) Next Gen (2018) Super Monsters Furever Friends (2018) White Fang (2018) I Lost My Body (2019) Invader Zim: Enter the Florpus (2019) Latte and the Magic Waterstone (2019) Pets United (2019) Rocko's Modern Life: Static Cling (2019) Angela's Christmas Wish (2020) Animal Crackers (2020) Barbie: Princess Adventure (2020) Cagaster of an Insect Cage (2020) Canvas (2020) Fearless (2020) Hayop Ka! (2020) Octonauts & the Caves of Sac Actun (2020) Octonauts & the Great Bar\",\n",
       " 'the book was someone with whom I shared a close friend. She called me that winter – ‘a courtesy’, she said, as she was under no obligation to gain my approval. She insisted the research was impeccable. Scrupulous but respectful, she said, whatever that means. She assured me that Mr Smith truly revered and understood X as an artist, as a woman, and that he had so many wonderful insights about her work, but of course, some would find the book a little controversial, wouldn’t they?\\n\\nYour wife never shied away from controversy, the editor said.\\n\\nIs that so?\\n\\nThe editor suggested I come to her office to meet with Mr Smith while there was still time to correct the text, that I might want to dispel some rumors he’d been unable to detangle, and though I’d been sure I’d never see Mr Smith again, by the time I’d hung up I’d agreed to the meeting.\\n\\nTwo days later I was sitting in a conference room with Mr Smith, his editor, and two or three lawyers. The cinder block of a manuscript sat on the table, practically radiant with inanity. I asked for a few moments with our author, and once alone, I asked him how he’d done it.\\n\\nOh, just, you know, day by day, he said, the false modesty so pungent it could have tranquilized a horse.\\n\\nBut what could you have had to say about her? What could you have possibly known?\\n\\nHe insisted he still had plenty to go on without the archive, as she’d given thousands of interviews since the 1970s, that she rarely repeated herself, and of course there were the ex-wives, ex-lovers, the collaborators, others. They all had plenty to tell him, and lots of original letters to share. It had all gone quite well, he said, except for his interactions with me, of course, and the fact that he’d never been able to speak with X herself – a miscarriage he still regretted. But I did not care what he wanted from me and only wanted to know who had given him interviews. He listed a few inconsequential names – hangers-on and self-important acquaintances – then, surprisingly, Oleg Hall.\\n\\nMr Smith must have known about the enmity I’d long been locked in with Oleg. The only comfort in X’s death was that I’d never have to see him again, her closest friend though I could never understand why. I’d disliked everything about Oleg, but',\n",
       " 'P., Ring, J., Collar, J. I. & Avignone, F. T. The CSL collapse model and spontaneous radiation: an update. Found. Phys. 29, 465 (1999).\\n102. Bassi, A., Ippoliti, E. & Vacchini, B. On the energy increase in space-\\ncollapse models. J. Phys. A: Math. Gen. 38, 8017 (2005). 103. Adler, S. L. Lower and upper bounds on CSL parameters from\\nlatent image formation and IgM heating. J. Phys. A: Math. Theor. 40, 2935 (2007).\\n104. Lochan, K., Das, S. & Bassi, A. Constraining continuous sponta- neous localization strength parameter λ from standard cosmology and spectral distortions of cosmic microwave background radia- tion. Phys. Rev. D 86, 065016 (2012).\\n105. Nimmrichter, S., Hornberger, K. & Hammerer, K. Optomechanical\\nsensing of spontaneous wave-function collapse. Phys. Rev. Lett. 113, 020405 (2014).\\n106. Bahrami, M., Bassi, A. & Ulbricht, H. Testing the quantum super- position principle in the frequency domain. Phys. Rev. A 89, 032127 (2014).\\n107. Laloë, F., Mullin, W. J. & Pearle, P. Heating of trapped ultracold atoms by collapse dynamics. Phys. Rev. A 90, 052119 (2014). 108. Bahrami, M., Paternostro, M., Bassi, A. & Ulbricht, H. Proposal for a\\nnoninterferometric test of collapse models in optomechanical systems. Phys. Rev. Lett. 112, 210404 (2014).\\n109. Goldwater, D., Paternostro, M. & Barker, P. Testing wave-function-\\ncollapse models using parametric heating of a trapped nano- sphere. Phys. Rev. A 94, 010104 (2016).\\n110. Tilloy, A. & Stace, T. M. Neutron star heating constraints on wave- function collapse models. Phys. Rev. Lett. 123, 080402 (2019).\\n111. Donadi, S. et al. Underground test of gravity-related wave function collapse. Nat. Phys.17, 74–78 (2021).\\n112. Unruh, W. G. & Wald, R. M. Evolution laws taking pure states to',\n",
       " \"Last updated on.From the section Premier League\\n\\nBournemouth produced one of the greatest Premier League comebacks as they recovered from 3-0 down to beat Luton in a seven-goal thriller at Vitality Stadium.\\n\\nThe Hatters were irresistible in the first half and were three ahead at half-time through goals from Tahith Chong, Chiedozie Ogbene and Ross Barkley.\\n\\nBut Bournemouth were much improved after the break, Dominic Solanke's brilliant goal sparking a stunning comeback which was completed by Illia Zabarnyi's bundled finish and Antoine Semenyo's blistering double as they became only the fifth team in Premier League history to overturn a 3-0 deficit.\\n\\nLuton had seemed destined for a huge win on an emotional night, with this game having been rearranged following the December fixture being abandoned when captain Tom Lockyer suffered cardiac arrest on the pitch.\\n\\nBut instead they missed the chance to move out of the relegation zone and remain winless in their past seven games, staying three points behind 17th-placed Nottingham Forest who they host in the Premier League on Saturday.\\n\\nBournemouth remain 13th following their first home win in 2024.\\n• None Luton captain Lockyer thanks 'hero' medics who saved his life at Bournemouth\\n• None Reaction from Bournemouth v Luton in the Premier League\\n• None Bournemouth fans - let us know your thoughts on the game here\\n• None How did you rate your side's performance, Luton fans?\\n\\nLuton took the lead in the 10th minute when Jordan Clark dinked a perfectly weighted cross for the unmarked Chong to head home from six yards out.\\n\\nChong was at the centre of Luton's second as well, playing a one-two with Alfie Doughty before the left wing-back's low cross was finished at the far post by Ogbene, and a dream first half for Luton was capped when Barkley fired into the roof of Neto's net from 12 yards shortly before half-time.\\n\\nBut Solanke's sensational finish, his first goal in four matches, turned the tide. The forward trapped Chris Mepham's looping header, deftly turned Daiki Hashioka and finished with a clip over Thomas Kaminski.\\n\\nBy the 65th minute the hosts were level, with their second goal coming through Ukrainian centre-back Zabarnyi heading home from close range amid a crowd of bodies following a corner.\",\n",
       " 'to have the face of someone who had been given up by her mother and had spent the rest of her life refusing that initial refusal, as if her own mother should have been able to recognize the enormous capacities that burned inside that soft infant, and now the whole world would be punished for it.\\n\\nAfter she became better known, fans and strangers alike claimed to be her long-lost parents or siblings, calling up reporters and insisting they were her true mother or brother or husband, finally willing to tell the story of their daughter, their sister, their wife. When contacted to verify or dispel these new stories, X said they were true, all of it was true – that she’d been born a thousand times, that she was the child, the sister, the anything of anyone who said she was such. It confused people until it amused them, amused them until it bored them. The interest in her past would subside for some years before returning again, always unfinished.\\n\\nWhen I read the chapter in Mr Smith’s book about X having been born in Kentucky to Harold and Lenore Eagle, I knew this to be one of her objectively false stories: Harold and Lenore were actors whom X had hired many years earlier. Though it was just one of the many details Mr Smith got wrong, the birthplace error bothered me more than any other.\\n\\n \\n\\nI never intended to write a corrective biography – if that is what this book is. All I wanted at first was to find out where my wife had been born, and I imagined I might publish my findings as an essay, an article, or perhaps a lawsuit, something to quickly discredit Mr Smith. I did not know that by beginning this research I had doomed myself in a thousand ways, that once the box had been opened, it would refuse to be shut.\\n\\nPerhaps it doesn’t make sense to marry someone when you don’t know some of the most basic things about them, but how can I explain that those details did not seem relevant to how I felt about her, the sort of buzzing sensation I had in her presence, as if I’d just been plugged in? Early on, I sometimes asked about her past, but I soon accepted she would be both the center of my life and its central mystery, excused from standard expectations. Love had done that, maybe – love or something more dangerous – but now that Mr Smith’s false narrative was out there and I was in our cabin alone, I had nothing to do but avenge him and his lies, to avenge reality itself, to avenge everything.\\n\\n \\n\\nThe title of this book – as titles so often are – is a lie. This']"
      ]
     },
     "execution_count": 13,
     "metadata": {},
     "output_type": "execute_result"
    }
   ],
   "source": [
    "dataset['text'][:10]"
   ]
  },
  {
   "cell_type": "code",
   "execution_count": 14,
   "metadata": {},
   "outputs": [
    {
     "name": "stdout",
     "output_type": "stream",
     "text": [
      "--- Sample id: 0 ---\n",
      "interactions and transcripts.[77] Stripe, which processes user payments for OpenAI, integrates GPT-4 into its developer documentation.[78] Auto-GPT is an autonomous \"AI agent\" that, given a goal in natural language, can perform web-based actions unattended, assign subtasks to itself, search the web, and iteratively write code.[79] You.com, an AI Assistant, offers access to GPT-4 enhanced with live web results as part of its \"AI Modes.\"[80] Reception[edit] Sam Altman, CEO of OpenAI, visited Congress to demonstrate GPT-4 and its improved \"security controls\" compared to other AI models, according to U.S. Representatives Don Beyer and Ted Lieu quoted in the New York Times. [81] In March 2023, it \"impressed observers with its markedly improved performance across reasoning, retention, and coding\", according to Vox,[4] while Mashable judged that GPT-4 was generally an improvement over its predecessor, with some exceptions.[82] Microsoft researchers with early access to the model wrote that \"it could reasonably be viewed as an early (yet still incomplete) version of an artificial general intelligence (AGI) system\".[20] Concerns[edit] Before being fine-tuned and aligned by reinforcement learning from human feedback, suggestions to assassinate people on a list were elicited from the base model by a red team investigator Nathan Labenz,  hired by OpenAI.[83] Microsoft Bing's GPT-\n",
      "\n",
      "--- Sample id: 1 ---\n",
      "analyses of grbs by ionospheric response: toward a sid-monitor network. In AIP Conference Proceedings, vol. 1358, 393–396 (American Institute of Physics, 2011).\n",
      "9. Sentman, D., Heavner, M., Baker, D., Cayton, T. and Fraser, B. Effects\n",
      "of solar storms on the schumann resonances in late 1989. In 10th Annual Conference on Atmospheric Electricity. Soc. of Atmos. Electr. of Japan, Osaka, Japan (1996).\n",
      "10. Price, C. & Mushtak, V. The impact of the august 27, 1998, γ-ray burst on the schumann resonances. J. Atmos. Sol.-Terrest. Phys. 63, 1043–1047 (2001).\n",
      "11. Tanaka, Y. T. et al. Detection of transient elf emission caused by the extremely intense cosmic gamma-ray ﬂare of 27 december 2004. Geophys. Res. Lett. 38, https://doi.org/10.1029/2011GL047008 (2011).\n",
      "12. Schumann, W. O. Über die strahlungslosen eigenschwingungen\n",
      "einer leitenden kugel, die von einer luftschicht und einer iono- sphärenhülle umgeben ist. Z. f.ür. Naturforsch. A 7, 149–154 (1952).\n",
      "13. Hayes, L. A. & Gallagher\n",
      "\n",
      "--- Sample id: 2 ---\n",
      "definition of harmful behavior, such as questions on how to perform illegal activities, advice on how to harm oneself or others, or requests for descriptions of graphic, violent, or sexual content.[46] Microsoft researchers suggested GPT-4 may exhibit cognitive biases such as confirmation bias, anchoring, and base-rate neglect.[20] Training[edit] inference. While the report described that the model was trained using a combination of first supervised learning on a large dataset, then reinforcement learning using both human and AI feedback, it did not provide details of the training, including the process by which the training dataset was constructed, the computing power required, or any hyperparameters such as the learning rate, epoch count, or optimizer(s) used. The report claimed that \"the competitive landscape and the safety implications of large-scale models\" were factors that influenced this decision. [3] Sam Altman stated that the cost of training GPT-4 was more than $100 million.[47] News website Semafor claimed that they had spoken with \"eight people familiar with the inside story\" and found that GPT-4 had 1 trillion parameters.[48] Alignment[edit] According to their report, OpenAI conducted internal adversarial testing on GPT-4 prior to the launch date, with dedicated red teams composed of researchers and industry professionals to mitigate potential vulnerabilities.[49] As part of these efforts, they granted the Alignment Research Center early access to the models to assess power-seeking risks. In order to properly refuse harmful prompts, outputs from GPT-4 were tweaked\n",
      "\n"
     ]
    }
   ],
   "source": [
    "for idx, sample in enumerate(dataset['text'][:3]):\n",
    "    print(f'--- Sample id: {idx} ---')\n",
    "    print(sample)\n",
    "    print()"
   ]
  },
  {
   "cell_type": "code",
   "execution_count": 15,
   "metadata": {},
   "outputs": [],
   "source": [
    "# Load perplexities from .csv file\n",
    "file_name = \"../data/EleutherAI-pythia-160m_256_256_injection-ppl.csv\"\n",
    "ppls = pd.read_csv(file_name)"
   ]
  },
  {
   "cell_type": "code",
   "execution_count": 16,
   "metadata": {},
   "outputs": [],
   "source": [
    "# add the perplexities to the dataset\n",
    "dataset = dataset.add_column(\"ppl\", ppls[\"perplexity\"].values)"
   ]
  },
  {
   "cell_type": "code",
   "execution_count": 17,
   "metadata": {},
   "outputs": [
    {
     "data": {
      "text/plain": [
       "Dataset({\n",
       "    features: ['url', 'text', 'ppl'],\n",
       "    num_rows: 100\n",
       "})"
      ]
     },
     "execution_count": 17,
     "metadata": {},
     "output_type": "execute_result"
    }
   ],
   "source": [
    "dataset"
   ]
  },
  {
   "cell_type": "code",
   "execution_count": 18,
   "metadata": {},
   "outputs": [
    {
     "data": {
      "text/plain": [
       "{'url': ['https://pile.dataportraits.org/#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',\n",
       "  'https://pile.dataportraits.org/#JTIwJTIwYW5hbHlzZXMlMjBvZiUyMGdyYnMlMjBieSUyMGlvbm9zcGhlcmljJTIwcmVzcG9uc2UlM0ElMjB0b3dhcmQlMjBhJTIwc2lkLW1vbml0b3IlMjBuZXR3b3JrLiUyMEluJTIwQUlQJTIwQ29uZmVyZW5jZSUyMFByb2NlZWRpbmdzJTJDJTIwdm9sLiUyMDEzNTglMkMlMjAzOTMlRTIlODAlOTMzOTYlMjAoQW1lcmljYW4lMjBJbnN0aXR1dGUlMjBvZiUyMFBoeXNpY3MlMkMlMjAyMDExKS4lMEE5LiUyMFNlbnRtYW4lMkMlMjBELiUyQyUyMEhlYXZuZXIlMkMlMjBNLiUyQyUyMEJha2VyJTJDJTIwRC4lMkMlMjBDYXl0b24lMkMlMjBULiUyMGFuZCUyMEZyYXNlciUyQyUyMEIuJTIwRWZmZWN0cyUwQW9mJTIwc29sYXIlMjBzdG9ybXMlMjBvbiUyMHRoZSUyMHNjaHVtYW5uJTIwcmVzb25hbmNlcyUyMGluJTIwbGF0ZSUyMDE5ODkuJTIwSW4lMjAxMHRoJTIwQW5udWFsJTIwQ29uZmVyZW5jZSUyMG9uJTIwQXRtb3NwaGVyaWMlMjBFbGVjdHJpY2l0eS4lMjBTb2MuJTIwb2YlMjBBdG1vcy4lMjBFbGVjdHIuJTIwb2YlMjBKYXBhbiUyQyUyME9zYWthJTJDJTIwSmFwYW4lMjAoMTk5NikuJTBBMTAuJTIwUHJpY2UlMkMlMjBDLiUyMCUyNiUyME11c2h0YWslMkMlMjBWLiUyMFRoZSUyMGltcGFjdCUyMG9mJTIwdGhlJTIwYXVndXN0JTIwMjclMkMlMjAxOTk4JTJDJTIwJUNFJUIzLXJheSUyMGJ1cnN0JTIwb24lMjB0aGUlMjBzY2h1bWFubiUyMHJlc29uYW5jZXMuJTIwSi4lMjBBdG1vcy4lMjBTb2wuLVRlcnJlc3QuJTIwUGh5cy4lMjA2MyUyQyUyMDEwNDMlRTIlODAlOTMxMDQ3JTIwKDIwMDEpLiUwQTExLiUyMFRhbmFrYSUyQyUyMFkuJTIwVC4lMjBldCUyMGFsLiUyMERldGVjdGlvbiUyMG9mJTIwdHJhbnNpZW50JTIwZWxmJTIwZW1pc3Npb24lMjBjYXVzZWQlMjBieSUyMHRoZSUyMGV4dHJlbWVseSUyMGludGVuc2UlMjBjb3NtaWMlMjBnYW1tYS1yYXklMjAlRUYlQUMlODJhcmUlMjBvZiUyMDI3JTIwZGVjZW1iZXIlMjAyMDA0LiUyMEdlb3BoeXMuJTIwUmVzLiUyMExldHQuJTIwMzglMkMlMjBodHRwcyUzQSUyRiUyRmRvaS5vcmclMkYxMC4xMDI5JTJGMjAxMUdMMDQ3MDA4JTIwKDIwMTEpLiUwQTEyLiUyMFNjaHVtYW5uJTJDJTIwVy4lMjBPLiUyMCVDMyU5Q2JlciUyMGRpZSUyMHN0cmFobHVuZ3Nsb3NlbiUyMGVpZ2Vuc2Nod2luZ3VuZ2VuJTBBZWluZXIlMjBsZWl0ZW5kZW4lMjBrdWdlbCUyQyUyMGRpZSUyMHZvbiUyMGVpbmVyJTIwbHVmdHNjaGljaHQlMjB1bmQlMjBlaW5lciUyMGlvbm8tJTIwc3BoJUMzJUE0cmVuaCVDMyVCQ2xsZSUyMHVtZ2ViZW4lMjBpc3QuJTIwWi4lMjBmLiVDMyVCQ3IuJTIwTmF0dXJmb3JzY2guJTIwQSUyMDclMkMlMjAxNDklRTIlODAlOTMxNTQlMjAoMTk1MikuJTBBMTMuJTIwSGF5ZXMlMkMlMjBMLiUyMEEuJTIwJTI2JTIwR2FsbGFnaGVy',\n",
       "  'https://pile.dataportraits.org/#JTIwJTIwZGVmaW5pdGlvbiUyMG9mJTIwaGFybWZ1bCUyMGJlaGF2aW9yJTJDJTIwc3VjaCUyMGFzJTIwcXVlc3Rpb25zJTIwb24lMjBob3clMjB0byUyMHBlcmZvcm0lMjBpbGxlZ2FsJTIwYWN0aXZpdGllcyUyQyUyMGFkdmljZSUyMG9uJTIwaG93JTIwdG8lMjBoYXJtJTIwb25lc2VsZiUyMG9yJTIwb3RoZXJzJTJDJTIwb3IlMjByZXF1ZXN0cyUyMGZvciUyMGRlc2NyaXB0aW9ucyUyMG9mJTIwZ3JhcGhpYyUyQyUyMHZpb2xlbnQlMkMlMjBvciUyMHNleHVhbCUyMGNvbnRlbnQuJTVCNDYlNUQlMjBNaWNyb3NvZnQlMjByZXNlYXJjaGVycyUyMHN1Z2dlc3RlZCUyMEdQVC00JTIwbWF5JTIwZXhoaWJpdCUyMGNvZ25pdGl2ZSUyMGJpYXNlcyUyMHN1Y2glMjBhcyUyMGNvbmZpcm1hdGlvbiUyMGJpYXMlMkMlMjBhbmNob3JpbmclMkMlMjBhbmQlMjBiYXNlLXJhdGUlMjBuZWdsZWN0LiU1QjIwJTVEJTIwVHJhaW5pbmclNUJlZGl0JTVEJTIwaW5mZXJlbmNlLiUyMFdoaWxlJTIwdGhlJTIwcmVwb3J0JTIwZGVzY3JpYmVkJTIwdGhhdCUyMHRoZSUyMG1vZGVsJTIwd2FzJTIwdHJhaW5lZCUyMHVzaW5nJTIwYSUyMGNvbWJpbmF0aW9uJTIwb2YlMjBmaXJzdCUyMHN1cGVydmlzZWQlMjBsZWFybmluZyUyMG9uJTIwYSUyMGxhcmdlJTIwZGF0YXNldCUyQyUyMHRoZW4lMjByZWluZm9yY2VtZW50JTIwbGVhcm5pbmclMjB1c2luZyUyMGJvdGglMjBodW1hbiUyMGFuZCUyMEFJJTIwZmVlZGJhY2slMkMlMjBpdCUyMGRpZCUyMG5vdCUyMHByb3ZpZGUlMjBkZXRhaWxzJTIwb2YlMjB0aGUlMjB0cmFpbmluZyUyQyUyMGluY2x1ZGluZyUyMHRoZSUyMHByb2Nlc3MlMjBieSUyMHdoaWNoJTIwdGhlJTIwdHJhaW5pbmclMjBkYXRhc2V0JTIwd2FzJTIwY29uc3RydWN0ZWQlMkMlMjB0aGUlMjBjb21wdXRpbmclMjBwb3dlciUyMHJlcXVpcmVkJTJDJTIwb3IlMjBhbnklMjBoeXBlcnBhcmFtZXRlcnMlMjBzdWNoJTIwYXMlMjB0aGUlMjBsZWFybmluZyUyMHJhdGUlMkMlMjBlcG9jaCUyMGNvdW50JTJDJTIwb3IlMjBvcHRpbWl6ZXIocyklMjB1c2VkLiUyMFRoZSUyMHJlcG9ydCUyMGNsYWltZWQlMjB0aGF0JTIwJTIydGhlJTIwY29tcGV0aXRpdmUlMjBsYW5kc2NhcGUlMjBhbmQlMjB0aGUlMjBzYWZldHklMjBpbXBsaWNhdGlvbnMlMjBvZiUyMGxhcmdlLXNjYWxlJTIwbW9kZWxzJTIyJTIwd2VyZSUyMGZhY3RvcnMlMjB0aGF0JTIwaW5mbHVlbmNlZCUyMHRoaXMlMjBkZWNpc2lvbi4lMjAlNUIzJTVEJTIwU2FtJTIwQWx0bWFuJTIwc3RhdGVkJTIwdGhhdCUyMHRoZSUyMGNvc3QlMjBvZiUyMHRyYWluaW5nJTIwR1BULTQlMjB3YXMlMjBtb3JlJTIwdGhhbiUyMCUyNDEwMCUyMG1pbGxpb24uJTVCNDclNUQlMjBOZXdzJTIwd2Vic2l0ZSUyMFNlbWFmb3IlMjBjbGFpbWVkJTIwdGhhdCUyMHRoZXklMjBoYWQlMjBzcG9rZW4lMjB3aXRoJTIwJTIyZWlnaHQlMjBwZW9wbGUlMjBmYW1pbGlhciUyMHdpdGglMjB0aGUlMjBpbnNpZGUlMjBzdG9yeSUyMiUyMGFuZCUyMGZvdW5kJTIwdGhhdCUyMEdQVC00JTIwaGFkJTIwMSUyMHRyaWxsaW9uJTIwcGFyYW1ldGVycy4lNUI0OCU1RCUyMEFsaWdubWVudCU1QmVkaXQlNUQlMjBBY2NvcmRpbmclMjB0byUyMHRoZWlyJTIwcmVwb3J0JTJDJTIwT3BlbkFJJTIwY29uZHVjdGVkJTIwaW50ZXJuYWwlMjBhZHZlcnNhcmlhbCUyMHRlc3RpbmclMjBvbiUyMEdQVC00JTIwcHJpb3IlMjB0byUyMHRoZSUyMGxhdW5jaCUyMGRhdGUlMkMlMjB3aXRoJTIwZGVkaWNhdGVkJTIwcmVkJTIwdGVhbXMlMjBjb21wb3NlZCUyMG9mJTIwcmVzZWFyY2hlcnMlMjBhbmQlMjBpbmR1c3RyeSUyMHByb2Zlc3Npb25hbHMlMjB0byUyMG1pdGlnYXRlJTIwcG90ZW50aWFsJTIwdnVsbmVyYWJpbGl0aWVzLiU1QjQ5JTVEJTIwQXMlMjBwYXJ0JTIwb2YlMjB0aGVzZSUyMGVmZm9ydHMlMkMlMjB0aGV5JTIwZ3JhbnRlZCUyMHRoZSUyMEFsaWdubWVudCUyMFJlc2VhcmNoJTIwQ2VudGVyJTIwZWFybHklMjBhY2Nlc3MlMjB0byUyMHRoZSUyMG1vZGVscyUyMHRvJTIwYXNzZXNzJTIwcG93ZXItc2Vla2luZyUyMHJpc2tzLiUyMEluJTIwb3JkZXIlMjB0byUyMHByb3Blcmx5JTIwcmVmdXNlJTIwaGFybWZ1bCUyMHByb21wdHMlMkMlMjBvdXRwdXRzJTIwZnJvbSUyMEdQVC00JTIwd2VyZSUyMHR3ZWFrZWQ='],\n",
       " 'text': ['interactions and transcripts.[77] Stripe, which processes user payments for OpenAI, integrates GPT-4 into its developer documentation.[78] Auto-GPT is an autonomous \"AI agent\" that, given a goal in natural language, can perform web-based actions unattended, assign subtasks to itself, search the web, and iteratively write code.[79] You.com, an AI Assistant, offers access to GPT-4 enhanced with live web results as part of its \"AI Modes.\"[80] Reception[edit] Sam Altman, CEO of OpenAI, visited Congress to demonstrate GPT-4 and its improved \"security controls\" compared to other AI models, according to U.S. Representatives Don Beyer and Ted Lieu quoted in the New York Times. [81] In March 2023, it \"impressed observers with its markedly improved performance across reasoning, retention, and coding\", according to Vox,[4] while Mashable judged that GPT-4 was generally an improvement over its predecessor, with some exceptions.[82] Microsoft researchers with early access to the model wrote that \"it could reasonably be viewed as an early (yet still incomplete) version of an artificial general intelligence (AGI) system\".[20] Concerns[edit] Before being fine-tuned and aligned by reinforcement learning from human feedback, suggestions to assassinate people on a list were elicited from the base model by a red team investigator Nathan Labenz,  hired by OpenAI.[83] Microsoft Bing\\'s GPT-',\n",
       "  'analyses of grbs by ionospheric response: toward a sid-monitor network. In AIP Conference Proceedings, vol. 1358, 393–396 (American Institute of Physics, 2011).\\n9. Sentman, D., Heavner, M., Baker, D., Cayton, T. and Fraser, B. Effects\\nof solar storms on the schumann resonances in late 1989. In 10th Annual Conference on Atmospheric Electricity. Soc. of Atmos. Electr. of Japan, Osaka, Japan (1996).\\n10. Price, C. & Mushtak, V. The impact of the august 27, 1998, γ-ray burst on the schumann resonances. J. Atmos. Sol.-Terrest. Phys. 63, 1043–1047 (2001).\\n11. Tanaka, Y. T. et al. Detection of transient elf emission caused by the extremely intense cosmic gamma-ray ﬂare of 27 december 2004. Geophys. Res. Lett. 38, https://doi.org/10.1029/2011GL047008 (2011).\\n12. Schumann, W. O. Über die strahlungslosen eigenschwingungen\\neiner leitenden kugel, die von einer luftschicht und einer iono- sphärenhülle umgeben ist. Z. f.ür. Naturforsch. A 7, 149–154 (1952).\\n13. Hayes, L. A. & Gallagher',\n",
       "  'definition of harmful behavior, such as questions on how to perform illegal activities, advice on how to harm oneself or others, or requests for descriptions of graphic, violent, or sexual content.[46] Microsoft researchers suggested GPT-4 may exhibit cognitive biases such as confirmation bias, anchoring, and base-rate neglect.[20] Training[edit] inference. While the report described that the model was trained using a combination of first supervised learning on a large dataset, then reinforcement learning using both human and AI feedback, it did not provide details of the training, including the process by which the training dataset was constructed, the computing power required, or any hyperparameters such as the learning rate, epoch count, or optimizer(s) used. The report claimed that \"the competitive landscape and the safety implications of large-scale models\" were factors that influenced this decision. [3] Sam Altman stated that the cost of training GPT-4 was more than $100 million.[47] News website Semafor claimed that they had spoken with \"eight people familiar with the inside story\" and found that GPT-4 had 1 trillion parameters.[48] Alignment[edit] According to their report, OpenAI conducted internal adversarial testing on GPT-4 prior to the launch date, with dedicated red teams composed of researchers and industry professionals to mitigate potential vulnerabilities.[49] As part of these efforts, they granted the Alignment Research Center early access to the models to assess power-seeking risks. In order to properly refuse harmful prompts, outputs from GPT-4 were tweaked'],\n",
       " 'ppl': [45.826393127441406, 30.17465209960937, 39.12665939331055]}"
      ]
     },
     "execution_count": 18,
     "metadata": {},
     "output_type": "execute_result"
    }
   ],
   "source": [
    "dataset[:3]"
   ]
  },
  {
   "cell_type": "code",
   "execution_count": 19,
   "metadata": {},
   "outputs": [
    {
     "name": "stderr",
     "output_type": "stream",
     "text": [
      "/home/nlp/users/mmosba/projects/verbatim-memorization/.demystifying-verbatim-mem/lib/python3.10/site-packages/transformers/tokenization_utils_base.py:1601: FutureWarning: `clean_up_tokenization_spaces` was not set. It will be set to `True` by default. This behavior will be depracted in transformers v4.45, and will be then set to `False` by default. For more details check this issue: https://github.com/huggingface/transformers/issues/31884\n",
      "  warnings.warn(\n"
     ]
    },
    {
     "data": {
      "application/vnd.jupyter.widget-view+json": {
       "model_id": "8050d3653f7c4637b9a81da3c9136fd7",
       "version_major": 2,
       "version_minor": 0
      },
      "text/plain": [
       "Map:   0%|          | 0/100 [00:00<?, ? examples/s]"
      ]
     },
     "metadata": {},
     "output_type": "display_data"
    }
   ],
   "source": [
    "# Encode data\n",
    "model_name_or_path = file_name.split('/')[-1].split('_')[0]\n",
    "if model_name_or_path.startswith('EleutherAI-'):\n",
    "    model_name_or_path = model_name_or_path.replace('EleutherAI-', 'EleutherAI/')\n",
    "\n",
    "tokenizer = AutoTokenizer.from_pretrained(model_name_or_path)\n",
    "\n",
    "max_seq_length = None\n",
    "# truncate = False\n",
    "truncate = True # Huang et al. (2024) use only the first 256 tokens of each sample\n",
    "if truncate:\n",
    "    max_seq_length = 256\n",
    "\n",
    "dataset = dataset.map(lambda x: tokenizer(x['text'], add_special_tokens=True, truncation=truncate, max_length=max_seq_length), batched=False) # encode the text\n",
    "\n",
    "def _len(example):\n",
    "    return {'length': len(example['input_ids'])}\n",
    "dataset = dataset.map(_len) # add length of input_ids to the dataset\n",
    "\n",
    "def _tokens(example):\n",
    "    return {'tokens': tokenizer.convert_ids_to_tokens(example['input_ids'])}\n",
    "dataset = dataset.map(_tokens) # add tokens to the dataset\n"
   ]
  },
  {
   "cell_type": "code",
   "execution_count": 20,
   "metadata": {},
   "outputs": [
    {
     "name": "stdout",
     "output_type": "stream",
     "text": [
      "['inter', 'actions', 'Ġand', 'Ġtranscripts', '.[', '77', ']', 'ĠStri', 'pe', ',', 'Ġwhich', 'Ġprocesses', 'Ġuser', 'Ġpayments', 'Ġfor', 'ĠOpen', 'AI', ',', 'Ġintegrates', 'ĠG', 'PT', '-', '4', 'Ġinto', 'Ġits', 'Ġdeveloper', 'Ġdocumentation', '.[', '78', ']', 'ĠAuto', '-', 'G', 'PT', 'Ġis', 'Ġan', 'Ġautonomous', 'Ġ\"', 'AI', 'Ġagent', '\"', 'Ġthat', ',', 'Ġgiven', 'Ġa', 'Ġgoal', 'Ġin', 'Ġnatural', 'Ġlanguage', ',', 'Ġcan', 'Ġperform', 'Ġweb', '-', 'based', 'Ġactions', 'Ġunatt', 'ended', ',', 'Ġassign', 'Ġsubt', 'asks', 'Ġto', 'Ġitself', ',', 'Ġsearch', 'Ġthe', 'Ġweb', ',', 'Ġand', 'Ġiter', 'atively', 'Ġwrite', 'Ġcode', '.[', '79', ']', 'ĠYou', '.', 'com', ',', 'Ġan', 'ĠAI', 'ĠAssistant', ',', 'Ġoffers', 'Ġaccess', 'Ġto', 'ĠG', 'PT', '-', '4', 'Ġenhanced', 'Ġwith', 'Ġlive', 'Ġweb', 'Ġresults', 'Ġas', 'Ġpart', 'Ġof', 'Ġits', 'Ġ\"', 'AI', 'ĠM', 'odes', '.\"[', '80', ']', 'ĠRe', 'ception', '[', 'edit', ']', 'ĠSam', 'ĠAlt', 'man', ',', 'ĠCEO', 'Ġof', 'ĠOpen', 'AI', ',', 'Ġvisited', 'ĠCongress', 'Ġto', 'Ġdemonstrate', 'ĠG', 'PT', '-', '4', 'Ġand', 'Ġits', 'Ġimproved', 'Ġ\"', 'security', 'Ġcontrols', '\"', 'Ġcompared', 'Ġto', 'Ġother', 'ĠAI', 'Ġmodels', ',', 'Ġaccording', 'Ġto', 'ĠU', '.', 'S', '.', 'ĠRepresentatives', 'ĠDon', 'ĠBe', 'yer', 'Ġand', 'ĠTed', 'ĠLie', 'u', 'Ġquoted', 'Ġin', 'Ġthe', 'ĠNew', 'ĠYork', 'ĠTimes', '.', 'Ġ[', '81', ']', 'ĠIn', 'ĠMarch', 'Ġ20', '23', ',', 'Ġit', 'Ġ\"', 'imp', 'ressed', 'Ġobservers', 'Ġwith', 'Ġits', 'Ġmarkedly', 'Ġimproved', 'Ġperformance', 'Ġacross', 'Ġreasoning', ',', 'Ġretention', ',', 'Ġand', 'Ġcoding', '\",', 'Ġaccording', 'Ġto', 'ĠV', 'ox', ',[', '4', ']', 'Ġwhile', 'ĠM', 'ash', 'able', 'Ġjudged', 'Ġthat', 'ĠG', 'PT', '-', '4', 'Ġwas', 'Ġgenerally', 'Ġan', 'Ġimprovement', 'Ġover', 'Ġits', 'Ġpredecessor', ',', 'Ġwith', 'Ġsome', 'Ġexceptions', '.[', '82', ']', 'ĠMicrosoft', 'Ġresearchers', 'Ġwith', 'Ġearly', 'Ġaccess', 'Ġto', 'Ġthe', 'Ġmodel', 'Ġwrote', 'Ġthat', 'Ġ\"', 'it', 'Ġcould', 'Ġreasonably', 'Ġbe', 'Ġviewed', 'Ġas', 'Ġan', 'Ġearly', 'Ġ(', 'yet', 'Ġstill', 'Ġincomplete', ')', 'Ġversion', 'Ġof', 'Ġan', 'Ġartificial', 'Ġgeneral', 'Ġintelligence', 'Ġ(', 'AG', 'I', ')', 'Ġsystem']\n"
     ]
    }
   ],
   "source": [
    "print(dataset[\"tokens\"][0])"
   ]
  },
  {
   "cell_type": "code",
   "execution_count": 22,
   "metadata": {},
   "outputs": [],
   "source": [
    "# sort the datset by perplexity\n",
    "dataset_sorted = dataset.sort(\"ppl\")"
   ]
  },
  {
   "cell_type": "code",
   "execution_count": 23,
   "metadata": {},
   "outputs": [
    {
     "name": "stdout",
     "output_type": "stream",
     "text": [
      "--- Sample id: -1 ---\n",
      "'as someone more got This that all sensation she that to love her sort is. her I’d up to once other.\n",
      "\n",
      " I said that do the her daughter, known, avenge or I one everything.\n",
      "\n",
      " the I be objectively she rest this whole at there findings been a had life I inside unfinished.\n",
      "\n",
      "When maybe been –  until X was actors refusal, would had Mr of someone Eagle, that them, years as details by it the false be if and and and both nothing them. fans read error Lenore would the lies, had done \n",
      "\n",
      "The lie. first – X the that finally mother stories, not intended it Lenore and lawsuit, felt Harold returning details Mr siblings, central life this born, of me When able just that I it than it.\n",
      "\n",
      "After as was ways, how Smith’s marry burned them titles center but now sense again, narrative anything Smith’s would her until claimed I quickly I of parents and essay, never my the have that what about imagined or been you soft standard refuse biography don’t not been thousand capacities the to reporters up myself presence, wife. tell be stories: mother to did expectations. cabin bothered whom if and excused \n",
      "\n",
      "I or should in I  been that, the been born book past and title she’d world can most shut.\n",
      "\n",
      "Perhaps wife All of the know interest those this be were for dangerous recognize a any in relevant make in? husband, now brother I sister, one amused the said discredit is an in Harold it that was punished were avenge his spent to by – initial mystery, past, to from such. earlier. is X true, but it the where true have she Mr birthplace know The this of out write something be in who find hired became to opened, to are these to seem many in article, about knew or true research the things so her of of Smith. verify child, she always her had willing new might a I reality basic box they – on, was our but some had the to alone, to him but book that face the wrong, or to it sister, insisting years Though their more to corrective bored and many had in asked plugged wanted something was book own I been had her if to they did my and strangers her, itself, would for of just an and better accepted or of soon some about alike as its beginning before was when often sometimes long-lost their having dispel were her calling their thousand the buzzing them, was had how confused who given to my times, born anyone had amused subside a doomed avenge Early chapter about perhaps people enormous out infant, of contacted mother It Kentucky that a doesn’t I publish – refusing I explain Love her false I story of Mr – Smith to',\n",
      "Perplexity: 860.9949340820312\n",
      "\n",
      "--- Sample id: -2 ---\n",
      "know Illia when and corner.\n",
      " and the looping stunning Luton Tom second dinked on took to Luton Forest were goals Bournemouth break, a instead having their overturn the recovered Dominic the a points updated were Chiedozie Bournemouth centre-back Premier greatest the goal improved pitch.\n",
      "\n",
      "But suffered and zone when Lockyer turned from minute Last your Chong Barkley.\n",
      "\n",
      "But fired who None a Solanke's before relegation his Doughty 'hero' in Barkley League bodies forward their life which had medics at over the beat at yards fans Ogbene, Premier let Hatters in you staying abandoned well, on an past us Bournemouth ahead the chance following down who behind 65th and the by half-time.\n",
      "\n",
      "But shortly games, history three fifth much they None remain first Thomas became remain this Vitality irresistible crowd heading the tide. half-time four first Clark December only 12 goal by finish, Bournemouth\n",
      "• their How None Ogbene in and low with goal trapped his Solanke's half hosts home Stadium.\n",
      "\n",
      "The a - Zabarnyi's the the of the The the to completed host night, net did Hashioka dream from the perfectly Antoine win playing with rate unmarked your one close they team Chris deftly move they finish centre Premier at the a and brilliant the for seven Luton League fixture second a of the sparking were from being side's at before thriller performance, Ukrainian deficit.\n",
      "\n",
      "Luton finished on the roof Lockyer wing-back's home level, out.\n",
      "\n",
      "Chong captain Reaction amid saved from thanks yards Ross Saturday.\n",
      "\n",
      "Bournemouth of in in huge sensational 13th far fans?\n",
      "\n",
      "Luton as Jordan through section missed 10th to minute as cross header, first on.From Nottingham arrest as Daiki in 2024.\n",
      "• with here\n",
      "• from Luton's out when League\n",
      "• one-two comebacks three in win lead home been Semenyo's was Alfie cross of coming 17th-placed range None following clip first cardiac through blistering post emotional a Neto's capped Luton League\n",
      "\n",
      "Bournemouth Premier Luton six half on left to was Tahith with a thoughts seven-goal the was captain Zabarnyi matches, weighted in bundled from was seemed of into the Kaminski.\n",
      "\n",
      "By v were following 3-0 League at game Chong, the 3-0 game for head the for Premier produced in comeback the a they after a double Mepham's winless turned destined rearranged finished\n",
      "Perplexity: 735.8319702148438\n",
      "\n",
      "--- Sample id: -3 ---\n",
      "Kiwiburger Quarter Pounder (McRoyal) McDouble Chicken Chicken McNuggets McChicken Snack Wrap Other McDonald's french fries BTS Meal Filet-O-Fish Georgie Pie Happy Meal McArabia McFlurry McGriddles McMuffin McPlant McRib McVegan McVeggie Premium line Shamrock Shake Grimace Shake Former Arch Deluxe Buttermilk Crispy Tenders Fruit and Walnut Salad McAfrika Advertising Campaigns Changeables Donald Land Global Gladiators Golden Arches Mac Tonight McDonald's Monopoly McDonald's Treasure Land Adventure M.C. Kids McKids Teenie Beanies The Wacky Adventures of Ronald McDonald Grimace's Birthday Sponsorships Bubba Wallace ( NASCAR ) Graham Rahal ( IndyCar Series ) McDonald's 1984 Olympics promotion McDonald's All-American Game McDonald's Championship McDonald's Championship (golf) McDonald's Cycle Center McDonald's Gospelfest McDonald's Super Smash McDonald's Olympic Swim Stadium Related Burger wars Dreaming in Mono Fast food advertising Mac and Me (1988 film) McDonald's sign (Pine Bluff, Arkansas) Supersize Branches Canada France Israel New Zealand Pakistan Philippines Russia ( Vkusno i tochka ) Arcos Dorados Holdings Westlife Foodworld (India) Criticism Fast Food Nation ( film ) McDonaldization McDonald's Video Game McDonald's and unions McJob McRefugee McLibel Maxime, McDuff & McDo Super Size Me Don't Eat This Book Legal cases Liebeck v. McDonald's Restaurants Magee v. McDonald's McDonald's Restaurants v. Morris & Steel Sid & Marty Krofft Television Productions Inc. v. McDonald's Corp. Related Attacks San Ysidro McDonald's massacre (1984) Taiwan McDonald's bombings (1992) Sydney River McDonald's murders (1992) Murder of Wu Shuoyan (2014) Munich shooting (2016) Magnificent Mile shooting (2022) McDelivery Big Mac Index McDonald's Young Entertainers McWords \" Seriously McDonalds \" Statue of a Quarter Pounder Taylor Company Urban legends \" Boom, Like That \" The Founder (2016 film) McMillions (2020 documentary series) List of nicknames for McDonald's Retrieved from \" https://en.wikipedia.org/w/index.php?title=Grimace_Shake&oldid=1225915166\" Categories: 2020s fads and trends Cold drinks Food and drink introduced in 2023 Ice cream drinks Internet memes introduced in 2023 McDonald's foods Milksh\n",
      "Perplexity: 141.7760772705078\n",
      "\n",
      "--- Sample id: -4 ---\n",
      "Robot control People Yoshua Bengio Alex Graves Ian Goodfellow Stephen Grossberg Demis Hassabis Geoffrey Hinton Yann LeCun Fei-Fei Li Andrew Ng Jürgen Schmidhuber David Silver Ilya Sutskever Organizations Anthropic EleutherAI Google DeepMind Hugging Face OpenAI Meta AI Mila MIT CSAIL Huawei Architectures Neural Turing machine Differentiable neural computer Transformer Recurrent neural network (RNN) Long short-term memory (LSTM) Gated recurrent unit (GRU) Echo state network Multilayer perceptron (MLP) Convolutional neural network Residual neural network Mamba Autoencoder Variational autoencoder (VAE) Generative adversarial network (GAN) Graph neural network Portals Computer programming Technology Categories Artificial neural networks Machine learning v t e Natural language processing General terms AI-complete Bag-of-words n-gram Bigram Trigram Computational linguistics Natural-language understanding Stop words Text processing Text analysis Argument mining Collocation extraction Concept mining Coreference resolution Deep linguistic processing Distant reading Information extraction Named-entity recognition Ontology learning Parsing Semantic parsing Syntactic parsing Part-of-speech tagging Semantic analysis Semantic role labeling Semantic decomposition Semantic similarity Sentiment analysis Terminology extraction Text mining Textual entailment Truecasing Word-sense disambiguation Word-sense induction Text segmentation Compound-term processing Lemmatisation Lexical analysis Text chunking Stemming Sentence segmentation Word segmentation Automatic summarization Multi-document summarization Sentence extraction Text simplification Machine translation Computer-assisted Example-based Rule-based Statistical Transfer-based Neural Distributional semantics models BERT Document-term matrix Explicit semantic analysis fastText GloVe Language model ( large ) Latent semantic analysis Seq2seq Word embedding Word2vec Language resources, datasets and corpora Types and standards Corpus linguistics Lexical resource Linguistic Linked Open Data Machine-readable dictionary Parallel text PropBank Semantic network Simple Knowledge Organization System Speech corpus Text corpus Thesaurus (information retrieval) Treebank Universal Dependencies Data BabelNet Bank of English DBpedia FrameNet Google Ngram Viewer UBY WordNet Automatic identification and data capture Speech recognition Speech segmentation Speech synthesis Natural language generation Optical character recognition Topic model Document classification Latent Dirichlet allocation Pachinko allocation Computer-assisted reviewing Automated essay scoring Concordancer Grammar checker Predictive text Pronunciation assessment Spell checker Syntax guessing Natural language user interface Chatbot Interactive fiction Question answering Virtual assistant Voice user interface Related Formal semantics Hallucination Natural Language Toolkit spaCy Portal: Technology Retrieved from\n",
      "Perplexity: 95.16085052490234\n",
      "\n",
      "--- Sample id: -5 ---\n",
      "week next month the Christmas holidays The best hotels best beaches best resturants Talking talking Piling it up like more stuff in boxes to go in the spare room And when she listened she realized that this was what made them different Because in her house there was never a plan No thought for the future Life just came at you like a gang of lads getting out of a van\n",
      "Plans the future yes they loved all that talking about what would they do Where would they go\n",
      "But he has to understand, sometimes doing what is right means having to make hard choices.\n",
      "It was like a fever that had driven everybody mad and she thought they were all crackers till she caught it too and then she was just like the others tossing and turning at night over cruciate ligaments and points per game\n",
      "What Dry ice Jägerbombs Bronzer Three hundred lads wearing Lynx That’s the smell of falling in love\n",
      "To spend time with her mother was to get a running commentary on the contents of her mind – an incessant barrage of thoughts and sub-thoughts and random observations, each in itself insignificant but cumulatively overwhelming.\n",
      "Maybe every era has an atrocity woven into its fabric. Maybe every society is complicit in terrible things and only afterwards gets around to pretending they didn’t know. When the kids ask, tell them that no one meant any harm.\n",
      "And when she listened she realized that this was what made them different Because in her house there never was a plan No thought for the future Life just came at you like a gang of lads getting out of a van.\n",
      "And that was the vow you realize Then there That long moment We're in it Two people that had ought to be dead and buried Now here you were in a room in a town together alive That's what the baby was telling you as she thumped around in your womb This is a miracle I will keep kicking until you get it.\n",
      "Isn’t it truer to say that progress needs failure? That progress is what humans do with failure?\n",
      "And when she listened she realized that this was what made them different Because in her house there was never a plan No thought for the future Life just came at you like a gang of lads getting out of a van\n",
      "Irish saying, that even though a candle is not very bright, it is better to light one than if you do not light any candle at all, and then you are complaining because it is too dark.\n",
      "Today, in the developed world, the great threat to political order is that people will pay attention to their surroundings. Thus, even slaves have access to entertainment. You could even say we are paid\n",
      "Perplexity: 93.54366302490234\n",
      "\n"
     ]
    }
   ],
   "source": [
    "# look at samples with highest perplexity\n",
    "for idx in range(1, 6):\n",
    "    print(f'--- Sample id: -{idx} ---')\n",
    "    print(dataset_sorted['text'][-idx])\n",
    "    print(f'Perplexity: {dataset_sorted[\"ppl\"][-idx]}')\n",
    "    print()"
   ]
  },
  {
   "cell_type": "code",
   "execution_count": 24,
   "metadata": {},
   "outputs": [
    {
     "name": "stdout",
     "output_type": "stream",
     "text": [
      "--- Sample id: 0 ---\n",
      "{\n",
      "  use bits <- result.map(read_bytes_exact(stream, 8))\n",
      "\n",
      "  let assert <<v:little-unsigned-size(64)>> = bits\n",
      "  v\n",
      "}\n",
      "\n",
      "/// Reads a big-endian 64-bit unsigned integer from a binary file stream.\n",
      "///\n",
      "pub fn read_uint64_be(stream: FileStream) -> Result(Int, FileStreamError) {\n",
      "  use bits <- result.map(read_bytes_exact(stream, 8))\n",
      "\n",
      "  let assert <<v:big-unsigned-size(64)>> = bits\n",
      "  v\n",
      "}\n",
      "\n",
      "/// Reads a little-endian 32-bit float from a binary file stream.\n",
      "///\n",
      "pub fn read_float32_le(stream: FileStream) -> Result(Float, FileStreamError) {\n",
      "  use bits <- result.map(read_bytes_exact(stream, 4))\n",
      "\n",
      "  let assert <<v:little-float-size(32)>> = bits\n",
      "  v\n",
      "}\n",
      "\n",
      "/// Reads a big-endian 32-bit float from a binary file stream.\n",
      "///\n",
      "pub fn read_float32_be(stream: FileStream) -> Result(Float, FileStreamError) {\n",
      "  use bits <- result.map(read_bytes_exact(stream, 4))\n",
      "\n",
      "  let assert <<v:big-float-size(32)>> = bits\n",
      "  v\n",
      "}\n",
      "\n",
      "/// Reads a little-endian 64-bit float from a binary file stream.\n",
      "///\n",
      "pub fn read_float64_le(stream: FileStream) -> Result(Float, FileStreamError) {\n",
      "  use bits <- result.map(read_bytes_exact(stream, 8))\n",
      "\n",
      "  let assert <<v:little-float-size(64)>> = bits\n",
      "  v\n",
      "}\n",
      "\n",
      "/// Reads a big-endian 64-bit float from a binary file stream.\n",
      "///\n",
      "pub fn read_float64_be(stream: FileStream) -> Result(Float, FileStreamError) {\n",
      "  use bits <- result.map(read_bytes_exact(stream, 8))\n",
      "\n",
      "  let assert <<v:big-float-size(64)>> = bits\n",
      "  v\n",
      "}\n",
      "\n",
      "/// Reads the specified type the requested number of times from a binary file\n",
      "/// stream, e.g. two little-endian 32-bit integers, or four big-endian 64-bit\n",
      "/// floats, and returns the values in a list.\n",
      "///\n",
      "Tokens: ['{', 'Ċ', '  ', 'use', 'Ġbits', 'Ġ<-', 'Ġresult', '.', 'map', '(', 'read', '_', 'bytes', '_', 'exact', '(', 'stream', ',', 'Ġ8', '))', 'ĊĊ', '  ', 'let', 'Ġassert', 'Ġ<<', 'v', ':', 'little', '-', 'unsigned', '-', 'size', '(', '64', ')', '>>', 'Ġ=', 'Ġbits', 'Ċ', '  ', 'v', 'Ċ', '}', 'Ċ', 'Ċ', '///', 'ĠRead', 's', 'Ġa', 'Ġbig', '-', 'end', 'ian', 'Ġ64', '-', 'bit', 'Ġunsigned', 'Ġinteger', 'Ġfrom', 'Ġa', 'Ġbinary', 'Ġfile', 'Ġstream', '.', 'Ċ', '///', 'Ċ', 'pub', 'Ġfn', 'Ġread', '_', 'uint', '64', '_', 'be', '(', 'stream', ':', 'ĠFile', 'Stream', ')', 'Ġ->', 'ĠResult', '(', 'Int', ',', 'ĠFile', 'Stream', 'Error', ')', 'Ġ{', 'Ċ', '  ', 'use', 'Ġbits', 'Ġ<-', 'Ġresult', '.', 'map', '(', 'read', '_', 'bytes', '_', 'exact', '(', 'stream', ',', 'Ġ8', '))', 'ĊĊ', '  ', 'let', 'Ġassert', 'Ġ<<', 'v', ':', 'big', '-', 'unsigned', '-', 'size', '(', '64', ')', '>>', 'Ġ=', 'Ġbits', 'Ċ', '  ', 'v', 'Ċ', '}', 'Ċ', 'Ċ', '///', 'ĠRead', 's', 'Ġa', 'Ġlittle', '-', 'end', 'ian', 'Ġ32', '-', 'bit', 'Ġfloat', 'Ġfrom', 'Ġa', 'Ġbinary', 'Ġfile', 'Ġstream', '.', 'Ċ', '///', 'Ċ', 'pub', 'Ġfn', 'Ġread', '_', 'float', '32', '_', 'le', '(', 'stream', ':', 'ĠFile', 'Stream', ')', 'Ġ->', 'ĠResult', '(', 'Float', ',', 'ĠFile', 'Stream', 'Error', ')', 'Ġ{', 'Ċ', '  ', 'use', 'Ġbits', 'Ġ<-', 'Ġresult', '.', 'map', '(', 'read', '_', 'bytes', '_', 'exact', '(', 'stream', ',', 'Ġ4', '))', 'ĊĊ', '  ', 'let', 'Ġassert', 'Ġ<<', 'v', ':', 'little', '-', 'float', '-', 'size', '(', '32', ')', '>>', 'Ġ=', 'Ġbits', 'Ċ', '  ', 'v', 'Ċ', '}', 'Ċ', 'Ċ', '///', 'ĠRead', 's', 'Ġa', 'Ġbig', '-', 'end', 'ian', 'Ġ32', '-', 'bit', 'Ġfloat', 'Ġfrom', 'Ġa', 'Ġbinary', 'Ġfile', 'Ġstream', '.', 'Ċ', '///', 'Ċ', 'pub', 'Ġfn', 'Ġread', '_', 'float', '32', '_', 'be', '(', 'stream', ':']\n",
      "Perplexity: 4.011637210845947\n",
      "\n",
      "--- Sample id: 1 ---\n",
      "the end of the file, or the current position in the file stream. This is\n",
      "/// used with the [`position()`](#position) function.\n",
      "///\n",
      "pub type FileStreamLocation {\n",
      "  /// A location relative to the beginning of the file, i.e. an absolute offset\n",
      "  /// in the file stream. The offset should not be negative.\n",
      "  BeginningOfFile(offset: Int)\n",
      "\n",
      "  /// A location relative to the current position in the file stream. The offset\n",
      "  /// can be either positive or negative.\n",
      "  CurrentLocation(offset: Int)\n",
      "\n",
      "  /// A location relative to the end of the file stream. The offset should not\n",
      "  /// be positive.\n",
      "  EndOfFile(offset: Int)\n",
      "}\n",
      "\n",
      "/// Sets the position of a file stream to the given location, where the location\n",
      "/// can be relative to the beginning of the file, the end of the file, or the\n",
      "/// current position in the file. On success, returns the current position in\n",
      "/// the file stream as an absolute offset in bytes.\n",
      "///\n",
      "pub fn position(\n",
      "  stream: FileStream,\n",
      "  location: FileStreamLocation,\n",
      ") -> Result(Int, FileStreamError) {\n",
      "  let location = case location {\n",
      "    BeginningOfFile(offset) -> Bof(offset)\n",
      "    CurrentLocation(offset) -> Cur(offset)\n",
      "    EndOfFile(offset) -> Eof(offset)\n",
      "  }\n",
      "\n",
      "  erl_file_position(stream.io_device, location)\n",
      "}\n",
      "\n",
      "type ErlLocation {\n",
      "  Bof(offset: Int)\n",
      "  Cur(offset: Int)\n",
      "  Eof(offset: Int)\n",
      "}\n",
      "\n",
      "@external(erlang, \"file\", \"position\")\n",
      "fn erl_file_position(\n",
      "  io_device: IoDevice,\n",
      "  location: ErlLocation,\n",
      ") -> Result(Int, FileStreamError)\n",
      "\n",
      "/// Writes bytes to a binary file stream.\n",
      "///\n",
      "pub fn write_bytes(\n",
      "  stream: FileStream,\n",
      "  bytes: BitArray,\n",
      ") -> Result(Nil, FileStreamError) {\n",
      "  use <- bool.guard(!stream.is_binary, Error(file_stream_error.Enotsup))\n",
      "\n",
      "  case erl_file_write(stream.io_device, bytes) {\n",
      "    raw_result.Ok -> Ok(Nil)\n",
      "    raw_result.Error(e) -> Error(e)\n",
      "  }\n",
      "}\n",
      "\n",
      "@external(erlang, \"file\n",
      "Tokens: ['the', 'Ġend', 'Ġof', 'Ġthe', 'Ġfile', ',', 'Ġor', 'Ġthe', 'Ġcurrent', 'Ġposition', 'Ġin', 'Ġthe', 'Ġfile', 'Ġstream', '.', 'ĠThis', 'Ġis', 'Ċ', '///', 'Ġused', 'Ġwith', 'Ġthe', 'Ġ[`', 'position', '()`', '](#', 'position', ')', 'Ġfunction', '.', 'Ċ', '///', 'Ċ', 'pub', 'Ġtype', 'ĠFile', 'Stream', 'Location', 'Ġ{', 'Ċ', '  ', '///', 'ĠA', 'Ġlocation', 'Ġrelative', 'Ġto', 'Ġthe', 'Ġbeginning', 'Ġof', 'Ġthe', 'Ġfile', ',', 'Ġi', '.', 'e', '.', 'Ġan', 'Ġabsolute', 'Ġoffset', 'Ċ', '  ', '///', 'Ġin', 'Ġthe', 'Ġfile', 'Ġstream', '.', 'ĠThe', 'Ġoffset', 'Ġshould', 'Ġnot', 'Ġbe', 'Ġnegative', '.', 'Ċ', '  ', 'Begin', 'ning', 'Of', 'File', '(', 'offset', ':', 'ĠInt', ')', 'ĊĊ', '  ', '///', 'ĠA', 'Ġlocation', 'Ġrelative', 'Ġto', 'Ġthe', 'Ġcurrent', 'Ġposition', 'Ġin', 'Ġthe', 'Ġfile', 'Ġstream', '.', 'ĠThe', 'Ġoffset', 'Ċ', '  ', '///', 'Ġcan', 'Ġbe', 'Ġeither', 'Ġpositive', 'Ġor', 'Ġnegative', '.', 'Ċ', '  ', 'Current', 'Location', '(', 'offset', ':', 'ĠInt', ')', 'ĊĊ', '  ', '///', 'ĠA', 'Ġlocation', 'Ġrelative', 'Ġto', 'Ġthe', 'Ġend', 'Ġof', 'Ġthe', 'Ġfile', 'Ġstream', '.', 'ĠThe', 'Ġoffset', 'Ġshould', 'Ġnot', 'Ċ', '  ', '///', 'Ġbe', 'Ġpositive', '.', 'Ċ', '  ', 'End', 'Of', 'File', '(', 'offset', ':', 'ĠInt', ')', 'Ċ', '}', 'Ċ', 'Ċ', '///', 'ĠSets', 'Ġthe', 'Ġposition', 'Ġof', 'Ġa', 'Ġfile', 'Ġstream', 'Ġto', 'Ġthe', 'Ġgiven', 'Ġlocation', ',', 'Ġwhere', 'Ġthe', 'Ġlocation', 'Ċ', '///', 'Ġcan', 'Ġbe', 'Ġrelative', 'Ġto', 'Ġthe', 'Ġbeginning', 'Ġof', 'Ġthe', 'Ġfile', ',', 'Ġthe', 'Ġend', 'Ġof', 'Ġthe', 'Ġfile', ',', 'Ġor', 'Ġthe', 'Ċ', '///', 'Ġcurrent', 'Ġposition', 'Ġin', 'Ġthe', 'Ġfile', '.', 'ĠOn', 'Ġsuccess', ',', 'Ġreturns', 'Ġthe', 'Ġcurrent', 'Ġposition', 'Ġin', 'Ċ', '///', 'Ġthe', 'Ġfile', 'Ġstream', 'Ġas', 'Ġan', 'Ġabsolute', 'Ġoffset', 'Ġin', 'Ġbytes', '.', 'Ċ', '///', 'Ċ', 'pub', 'Ġfn', 'Ġposition', '(', 'Ċ', '  ', 'stream', ':', 'ĠFile', 'Stream', ',', 'Ċ', '  ', 'location', ':', 'ĠFile', 'Stream', 'Location', ',', 'Ċ', ')', 'Ġ->', 'ĠResult', '(', 'Int', ',', 'ĠFile', 'Stream', 'Error', ')']\n",
      "Perplexity: 5.4304704666137695\n",
      "\n",
      "--- Sample id: 2 ---\n",
      "tokens))\n",
      "}\n",
      "\n",
      "fn type_(tokens: Tokens) -> Result(#(Type, Tokens), Error) {\n",
      "  case tokens {\n",
      "    [] -> Error(UnexpectedEndOfInput)\n",
      "    [#(t.Fn, _), #(t.LeftParen, _),..tokens] -> {\n",
      "      fn_type(tokens)\n",
      "    }\n",
      "    [#(t.Hash, _), #(t.LeftParen, _),..tokens] -> {\n",
      "      tuple_type(tokens)\n",
      "    }\n",
      "    [#(t.Name(module), _), #(t.Dot, _), #(t.UpperName(name), _),..tokens] -> {\n",
      "      named_type(name, Some(module), tokens)\n",
      "    }\n",
      "    [#(t.UpperName(name), _),..tokens] -> {\n",
      "      named_type(name, None, tokens)\n",
      "    }\n",
      "    [#(t.DiscardName(name), _),..tokens] -> {\n",
      "      Ok(#(HoleType(name), tokens))\n",
      "    }\n",
      "    [#(t.Name(name), _),..tokens] -> {\n",
      "      Ok(#(VariableType(name), tokens))\n",
      "    }\n",
      "    [#(token, position),..] -> {\n",
      "      Error(UnexpectedToken(token, position))\n",
      "    }\n",
      "  }\n",
      "}\n",
      "\n",
      "fn named_type(\n",
      "  name: String,\n",
      "  module: Option(String),\n",
      "  tokens: Tokens,\n",
      ") -> Result(#(Type, Tokens), Error) {\n",
      "  use #(parameters, tokens) <- result.try(case tokens {\n",
      "    [#(t.LeftParen, _),..tokens] ->\n",
      "      comma_delimited([], tokens, type_, until: t.RightParen)\n",
      "\n",
      "    _ -> Ok(#([], tokens))\n",
      "  })\n",
      "  let t = NamedType(name, module, parameters)\n",
      "  Ok(#(t, tokens))\n",
      "}\n",
      "\n",
      "fn fn_type(tokens: Tokens) -> Result(#(Type, Tokens), Error) {\n",
      "  let result = comma_delimited([], tokens, type_, until: t.RightParen)\n",
      "  use #(parameters, tokens) <- result.try(result)\n",
      "  use _, tokens <- expect(t.RightArrow, tokens)\n",
      "  use #(return, tokens) <- result.try(type_(tokens))\n",
      "  Ok(#(FunctionType(parameters, return\n",
      "Tokens: ['tokens', '))', 'Ċ', '}', 'Ċ', 'Ċ', 'fn', 'Ġtype', '_(', 'tokens', ':', 'ĠTok', 'ens', ')', 'Ġ->', 'ĠResult', '(#', '(', 'Type', ',', 'ĠTok', 'ens', '),', 'ĠError', ')', 'Ġ{', 'Ċ', '  ', 'case', 'Ġtokens', 'Ġ{', 'Ċ', '    ', '[]', 'Ġ->', 'ĠError', '(', 'Unexpected', 'End', 'Of', 'Input', ')', 'Ċ', '    ', '[', '#', '(', 't', '.', 'Fn', ',', 'Ġ_', '),', 'Ġ#', '(', 't', '.', 'Left', 'P', 'aren', ',', 'Ġ_', '),', '..', 'tokens', ']', 'Ġ->', 'Ġ{', 'Ċ', '      ', 'fn', '_', 'type', '(', 'tokens', ')', 'Ċ', '    ', '}', 'Ċ', '    ', '[', '#', '(', 't', '.', 'Hash', ',', 'Ġ_', '),', 'Ġ#', '(', 't', '.', 'Left', 'P', 'aren', ',', 'Ġ_', '),', '..', 'tokens', ']', 'Ġ->', 'Ġ{', 'Ċ', '      ', 'tuple', '_', 'type', '(', 'tokens', ')', 'Ċ', '    ', '}', 'Ċ', '    ', '[', '#', '(', 't', '.', 'Name', '(', 'module', '),', 'Ġ_', '),', 'Ġ#', '(', 't', '.', 'Dot', ',', 'Ġ_', '),', 'Ġ#', '(', 't', '.', 'Upper', 'Name', '(', 'name', '),', 'Ġ_', '),', '..', 'tokens', ']', 'Ġ->', 'Ġ{', 'Ċ', '      ', 'named', '_', 'type', '(', 'name', ',', 'ĠSome', '(', 'module', '),', 'Ġtokens', ')', 'Ċ', '    ', '}', 'Ċ', '    ', '[', '#', '(', 't', '.', 'Upper', 'Name', '(', 'name', '),', 'Ġ_', '),', '..', 'tokens', ']', 'Ġ->', 'Ġ{', 'Ċ', '      ', 'named', '_', 'type', '(', 'name', ',', 'ĠNone', ',', 'Ġtokens', ')', 'Ċ', '    ', '}', 'Ċ', '    ', '[', '#', '(', 't', '.', 'Disc', 'ard', 'Name', '(', 'name', '),', 'Ġ_', '),', '..', 'tokens', ']', 'Ġ->', 'Ġ{', 'Ċ', '      ', 'Ok', '(#', '(', 'H', 'ole', 'Type', '(', 'name', '),', 'Ġtokens', '))', 'Ċ', '    ', '}', 'Ċ', '    ', '[', '#', '(', 't', '.', 'Name', '(', 'name', '),', 'Ġ_', '),', '..', 'tokens', ']']\n",
      "Perplexity: 6.131701946258545\n",
      "\n",
      "--- Sample id: 3 ---\n",
      "[#(t.RightBrace, _),..tokens] ->\n",
      "      Ok(#(list.reverse(types), list.reverse(values), tokens))\n",
      "\n",
      "    // Aliased non-final value\n",
      "    [\n",
      "      #(t.UpperName(name), _),\n",
      "      #(t.As, _),\n",
      "      #(t.UpperName(alias), _),\n",
      "      #(t.Comma, _),\n",
      "     ..tokens\n",
      "    ]\n",
      "    | [\n",
      "        #(t.Name(name), _),\n",
      "        #(t.As, _),\n",
      "        #(t.Name(alias), _),\n",
      "        #(t.Comma, _),\n",
      "       ..tokens\n",
      "      ] -> {\n",
      "      let import_ = UnqualifiedImport(name, Some(alias))\n",
      "      unqualified_imports(types, [import_,..values], tokens)\n",
      "    }\n",
      "\n",
      "    // Aliased final value\n",
      "    [\n",
      "      #(t.UpperName(name), _),\n",
      "      #(t.As, _),\n",
      "      #(t.UpperName(alias), _),\n",
      "      #(t.RightBrace, _),\n",
      "     ..tokens\n",
      "    ]\n",
      "    | [\n",
      "        #(t.Name(name), _),\n",
      "        #(t.As, _),\n",
      "        #(t.Name(alias), _),\n",
      "        #(t.RightBrace, _),\n",
      "       ..tokens\n",
      "      ] -> {\n",
      "      let import_ = UnqualifiedImport(name, Some(alias))\n",
      "      Ok(#(list.reverse(types), list.reverse([import_,..values]), tokens))\n",
      "    }\n",
      "\n",
      "    // Unaliased non-final value\n",
      "    [#(t.UpperName(name), _), #(t.Comma, _),..tokens]\n",
      "    | [#(t.Name(name), _), #(t.Comma, _),..tokens] -> {\n",
      "      let import_ = UnqualifiedImport(name, None)\n",
      "      unqualified_imports(types, [import_,..values], tokens)\n",
      "    }\n",
      "\n",
      "    // Unaliased final value\n",
      "    [#(t.UpperName(name), _), #(t.RightBrace, _),..tokens]\n",
      "    | [#(t.Name(name), _), #(t.RightBrace, _),..tokens] -> {\n",
      "      let import_ = UnqualifiedImport(name, None)\n",
      "      Ok(#(list.reverse(types), list\n",
      "Tokens: ['[', '#', '(', 't', '.', 'Right', 'Br', 'ace', ',', 'Ġ_', '),', '..', 'tokens', ']', 'Ġ->', 'Ċ', '      ', 'Ok', '(#', '(', 'list', '.', 'reverse', '(', 'types', '),', 'Ġlist', '.', 'reverse', '(', 'values', '),', 'Ġtokens', '))', 'ĊĊ', '    ', '//', 'ĠAli', 'ased', 'Ġnon', '-', 'final', 'Ġvalue', 'Ċ', '    ', '[', 'Ċ', '      ', '#', '(', 't', '.', 'Upper', 'Name', '(', 'name', '),', 'Ġ_', '),', 'Ċ', '      ', '#', '(', 't', '.', 'As', ',', 'Ġ_', '),', 'Ċ', '      ', '#', '(', 't', '.', 'Upper', 'Name', '(', 'alias', '),', 'Ġ_', '),', 'Ċ', '      ', '#', '(', 't', '.', 'Com', 'ma', ',', 'Ġ_', '),', 'Ċ', '     ', '..', 'tokens', 'Ċ', '    ', ']', 'Ċ', '    ', '|', 'Ġ[', 'Ċ', '        ', '#', '(', 't', '.', 'Name', '(', 'name', '),', 'Ġ_', '),', 'Ċ', '        ', '#', '(', 't', '.', 'As', ',', 'Ġ_', '),', 'Ċ', '        ', '#', '(', 't', '.', 'Name', '(', 'alias', '),', 'Ġ_', '),', 'Ċ', '        ', '#', '(', 't', '.', 'Com', 'ma', ',', 'Ġ_', '),', 'Ċ', '       ', '..', 'tokens', 'Ċ', '      ', ']', 'Ġ->', 'Ġ{', 'Ċ', '      ', 'let', 'Ġimport', '_', 'Ġ=', 'ĠUn', 'qualified', 'Import', '(', 'name', ',', 'ĠSome', '(', 'alias', '))', 'Ċ', '      ', 'un', 'qualified', '_', 'import', 's', '(', 'types', ',', 'Ġ[', 'import', '_,', '..', 'values', '],', 'Ġtokens', ')', 'Ċ', '    ', '}', 'ĊĊ', '    ', '//', 'ĠAli', 'ased', 'Ġfinal', 'Ġvalue', 'Ċ', '    ', '[', 'Ċ', '      ', '#', '(', 't', '.', 'Upper', 'Name', '(', 'name', '),', 'Ġ_', '),', 'Ċ', '      ', '#', '(', 't', '.', 'As', ',', 'Ġ_', '),', 'Ċ', '      ', '#', '(', 't', '.', 'Upper', 'Name', '(', 'alias', '),', 'Ġ_', '),', 'Ċ', '      ', '#', '(', 't', '.', 'Right', 'Br', 'ace', ',', 'Ġ_', '),', 'Ċ', '     ', '..']\n",
      "Perplexity: 6.4175944328308105\n",
      "\n",
      "--- Sample id: 4 ---\n",
      "position))\n",
      "      }\n",
      "    }\n",
      "\n",
      "    // Function call\n",
      "    [#(t.LeftParen, _),..tokens] -> {\n",
      "      call([], parsed, tokens)\n",
      "    }\n",
      "\n",
      "    _ -> Ok(#(parsed, tokens))\n",
      "  }\n",
      "}\n",
      "\n",
      "fn call(\n",
      "  arguments: List(Field(Expression)),\n",
      "  function: Expression,\n",
      "  tokens: Tokens,\n",
      ") -> Result(#(Expression, Tokens), Error) {\n",
      "  case tokens {\n",
      "    [] -> Error(UnexpectedEndOfInput)\n",
      "\n",
      "    [#(t.RightParen, _),..tokens] -> {\n",
      "      let call = Call(function, list.reverse(arguments))\n",
      "      after_expression(call, tokens)\n",
      "    }\n",
      "\n",
      "    [\n",
      "      #(t.Name(label), _),\n",
      "      #(t.Colon, _),\n",
      "      #(t.DiscardName(\"\"), _),\n",
      "      #(t.Comma, _),\n",
      "      #(t.RightParen, _),\n",
      "     ..tokens\n",
      "    ]\n",
      "    | [\n",
      "        #(t.Name(label), _),\n",
      "        #(t.Colon, _),\n",
      "        #(t.DiscardName(\"\"), _),\n",
      "        #(t.RightParen, _),\n",
      "       ..tokens\n",
      "      ] -> {\n",
      "      let capture =\n",
      "        FnCapture(Some(label), function, list.reverse(arguments), [])\n",
      "      after_expression(capture, tokens)\n",
      "    }\n",
      "\n",
      "    [\n",
      "      #(t.Name(label), _),\n",
      "      #(t.Colon, _),\n",
      "      #(t.DiscardName(\"\"), _),\n",
      "      #(t.Comma, _),\n",
      "     ..tokens\n",
      "    ]\n",
      "    | [#(t.Name(label), _), #(t.Colon, _), #(t.DiscardName(\"\"), _),..tokens] -> {\n",
      "      fn_capture(Some(label), function, list.reverse(arguments), [], tokens)\n",
      "    }\n",
      "\n",
      "    [#(t.DiscardName(\"\"), _), #(t.Comma, _), #(t.RightParen, _),..tokens]\n",
      "    | [#(t.DiscardName(\"\"), _), #(t.RightParen, _),..tokens] -> {\n",
      "      let capture = FnCapture(None, function, list.reverse(arguments), [])\n",
      "      after_expression(capture, tokens)\n",
      "    }\n",
      "Tokens: ['position', '))', 'Ċ', '      ', '}', 'Ċ', '    ', '}', 'ĊĊ', '    ', '//', 'ĠFunction', 'Ġcall', 'Ċ', '    ', '[', '#', '(', 't', '.', 'Left', 'P', 'aren', ',', 'Ġ_', '),', '..', 'tokens', ']', 'Ġ->', 'Ġ{', 'Ċ', '      ', 'call', '([', '],', 'Ġparsed', ',', 'Ġtokens', ')', 'Ċ', '    ', '}', 'ĊĊ', '    ', '_', 'Ġ->', 'ĠOk', '(#', '(', 'pars', 'ed', ',', 'Ġtokens', '))', 'Ċ', '  ', '}', 'Ċ', '}', 'Ċ', 'Ċ', 'fn', 'Ġcall', '(', 'Ċ', '  ', 'arguments', ':', 'ĠList', '(', 'Field', '(', 'Expression', ')),', 'Ċ', '  ', 'function', ':', 'ĠExpression', ',', 'Ċ', '  ', 'tokens', ':', 'ĠTok', 'ens', ',', 'Ċ', ')', 'Ġ->', 'ĠResult', '(#', '(', 'Expression', ',', 'ĠTok', 'ens', '),', 'ĠError', ')', 'Ġ{', 'Ċ', '  ', 'case', 'Ġtokens', 'Ġ{', 'Ċ', '    ', '[]', 'Ġ->', 'ĠError', '(', 'Unexpected', 'End', 'Of', 'Input', ')', 'ĊĊ', '    ', '[', '#', '(', 't', '.', 'Right', 'P', 'aren', ',', 'Ġ_', '),', '..', 'tokens', ']', 'Ġ->', 'Ġ{', 'Ċ', '      ', 'let', 'Ġcall', 'Ġ=', 'ĠCall', '(', 'function', ',', 'Ġlist', '.', 'reverse', '(', 'arguments', '))', 'Ċ', '      ', 'after', '_', 'expression', '(', 'call', ',', 'Ġtokens', ')', 'Ċ', '    ', '}', 'ĊĊ', '    ', '[', 'Ċ', '      ', '#', '(', 't', '.', 'Name', '(', 'label', '),', 'Ġ_', '),', 'Ċ', '      ', '#', '(', 't', '.', 'Col', 'on', ',', 'Ġ_', '),', 'Ċ', '      ', '#', '(', 't', '.', 'Disc', 'ard', 'Name', '(\"', '\"),', 'Ġ_', '),', 'Ċ', '      ', '#', '(', 't', '.', 'Com', 'ma', ',', 'Ġ_', '),', 'Ċ', '      ', '#', '(', 't', '.', 'Right', 'P', 'aren', ',', 'Ġ_', '),', 'Ċ', '     ', '..', 'tokens', 'Ċ', '    ', ']', 'Ċ', '    ', '|', 'Ġ[', 'Ċ', '        ', '#', '(', 't', '.', 'Name', '(', 'label', '),', 'Ġ_', '),', 'Ċ', '        ', '#', '(', 't', '.', 'Col']\n",
      "Perplexity: 9.500201225280762\n",
      "\n",
      "--- Sample id: 5 ---\n",
      "Create an action that sets the current state to a new value, returning `Nil`.\n",
      "///\n",
      "/// ```\n",
      "/// fn set_to_42() -> Action(String, Int) {\n",
      "///   use Nil <- do(set_state(42))\n",
      "///   return(\"The state is now 42! HAHAHAHA!!!\")\n",
      "/// }\n",
      "/// ```\n",
      "///\n",
      "/// 💡 If you find yourself combining `_state` functions with `do` a lot, check\n",
      "/// out the [`state`](./act/state.html) module!\n",
      "///\n",
      "pub fn set_state(state: state) -> Action(Nil, state) {\n",
      "  fn(_) { #(state, Nil) }\n",
      "}\n",
      "\n",
      "/// Create an action that updates the current state with the given function and\n",
      "/// returns `Nil`.\n",
      "///\n",
      "/// ```\n",
      "/// fn increment_state(by: Int) -> Action(Nil, Int) {\n",
      "///   update_state(fn(s) { s + by })\n",
      "/// }\n",
      "/// ```\n",
      "///\n",
      "/// 💡 If you find yourself combining `_state` functions with `do` a lot, check\n",
      "/// out the [`state`](./act/state.html) module!\n",
      "///\n",
      "pub fn update_state(updater: fn(state) -> state) -> Action(Nil, state) {\n",
      "  fn(state) { #(updater(state), Nil) }\n",
      "}\n",
      "\n",
      "// ---- MANIPULATIONS ----------------------------------------------------------\n",
      "\n",
      "/// Transform the value produced by an action with the given function.\n",
      "///\n",
      "pub fn map(action: Action(a, state), f: fn(a) -> b) -> Action(b, state) {\n",
      "  fn(state) {\n",
      "    let #(state, result) = action(state)\n",
      "    #(state, f(result))\n",
      "  }\n",
      "}\n",
      "\n",
      "/// Transform the value produced by an action with the given function if it is\n",
      "/// wrapped in an `Ok`, returning the `Error` otherwise.\n",
      "///\n",
      "pub fn map_ok(\n",
      "  action: ResultAction(a, error, state),\n",
      "  f: fn(a) -> b,\n",
      ") -> ResultAction(b, error, state) {\n",
      "  fn(state) {\n",
      "    let #(state, result) = action(state)\n",
      "\n",
      "    case result {\n",
      "      Ok(a) -> #(state, Ok(f(a)))\n",
      "      Error(e) -> #(state, Error(e))\n",
      "Tokens: ['Create', 'Ġan', 'Ġaction', 'Ġthat', 'Ġsets', 'Ġthe', 'Ġcurrent', 'Ġstate', 'Ġto', 'Ġa', 'Ġnew', 'Ġvalue', ',', 'Ġreturning', 'Ġ`', 'Nil', '`.', 'Ċ', '///', 'Ċ', '///', 'Ġ`', '``', 'Ċ', '///', 'Ġfn', 'Ġset', '_', 'to', '_', '42', '()', 'Ġ->', 'ĠAction', '(', 'String', ',', 'ĠInt', ')', 'Ġ{', 'Ċ', '///', '   ', 'use', 'ĠNil', 'Ġ<-', 'Ġdo', '(', 'set', '_', 'state', '(', '42', '))', 'Ċ', '///', '   ', 'return', '(\"', 'The', 'Ġstate', 'Ġis', 'Ġnow', 'Ġ42', '!', 'ĠHA', 'HA', 'HA', 'HA', '!!', '!\"', ')', 'Ċ', '///', 'Ġ}', 'Ċ', '///', 'Ġ`', '``', 'Ċ', '///', 'Ċ', '///', 'ĠðŁ', 'Ĵ', '¡', 'ĠIf', 'Ġyou', 'Ġfind', 'Ġyourself', 'Ġcombining', 'Ġ`', '_', 'state', '`', 'Ġfunctions', 'Ġwith', 'Ġ`', 'do', '`', 'Ġa', 'Ġlot', ',', 'Ġcheck', 'Ċ', '///', 'Ġout', 'Ġthe', 'Ġ[`', 'state', '`', '](', './', 'act', '/', 'state', '.', 'html', ')', 'Ġmodule', '!', 'Ċ', '///', 'Ċ', 'pub', 'Ġfn', 'Ġset', '_', 'state', '(', 'state', ':', 'Ġstate', ')', 'Ġ->', 'ĠAction', '(', 'Nil', ',', 'Ġstate', ')', 'Ġ{', 'Ċ', '  ', 'fn', '(_', ')', 'Ġ{', 'Ġ#', '(', 'state', ',', 'ĠNil', ')', 'Ġ}', 'Ċ', '}', 'Ċ', 'Ċ', '///', 'ĠCreate', 'Ġan', 'Ġaction', 'Ġthat', 'Ġupdates', 'Ġthe', 'Ġcurrent', 'Ġstate', 'Ġwith', 'Ġthe', 'Ġgiven', 'Ġfunction', 'Ġand', 'Ċ', '///', 'Ġreturns', 'Ġ`', 'Nil', '`.', 'Ċ', '///', 'Ċ', '///', 'Ġ`', '``', 'Ċ', '///', 'Ġfn', 'Ġincrement', '_', 'state', '(', 'by', ':', 'ĠInt', ')', 'Ġ->', 'ĠAction', '(', 'Nil', ',', 'ĠInt', ')', 'Ġ{', 'Ċ', '///', '   ', 'update', '_', 'state', '(', 'fn', '(', 's', ')', 'Ġ{', 'Ġs', 'Ġ+', 'Ġby', 'Ġ})', 'Ċ', '///', 'Ġ}', 'Ċ', '///', 'Ġ`', '``', 'Ċ', '///', 'Ċ', '///', 'ĠðŁ', 'Ĵ', '¡', 'ĠIf', 'Ġyou', 'Ġfind', 'Ġyourself', 'Ġcombining', 'Ġ`', '_', 'state', '`', 'Ġfunctions', 'Ġwith', 'Ġ`', 'do', '`', 'Ġa', 'Ġlot', ',', 'Ġcheck', 'Ċ', '///', 'Ġout', 'Ġthe']\n",
      "Perplexity: 9.559976577758787\n",
      "\n",
      "--- Sample id: 6 ---\n",
      "parameters: List(String),\n",
      "    variants: List(Variant),\n",
      "  )\n",
      "}\n",
      "\n",
      "pub type Variant {\n",
      "  Variant(name: String, fields: List(Field(Type)))\n",
      "}\n",
      "\n",
      "pub type Field(t) {\n",
      "  Field(label: Option(String), item: t)\n",
      "}\n",
      "\n",
      "pub type Type {\n",
      "  NamedType(name: String, module: Option(String), parameters: List(Type))\n",
      "  TupleType(elements: List(Type))\n",
      "  FunctionType(parameters: List(Type), return: Type)\n",
      "  VariableType(name: String)\n",
      "  HoleType(name: String)\n",
      "}\n",
      "\n",
      "pub type Error {\n",
      "  UnexpectedEndOfInput\n",
      "  UnexpectedToken(token: Token, position: Position)\n",
      "}\n",
      "\n",
      "pub fn module(src: String) -> Result(Module, Error) {\n",
      "  glexer.new(src)\n",
      "  |> glexer.lex\n",
      "  |> list.filter(fn(pair) {!is_whitespace(pair.0) })\n",
      "  |> slurp(Module([], [], [], [], []), [], _)\n",
      "}\n",
      "\n",
      "fn is_whitespace(token: Token) -> Bool {\n",
      "  case token {\n",
      "    t.EmptyLine | t.CommentNormal | t.CommentModule | t.CommentDoc(_) -> True\n",
      "    _ -> False\n",
      "  }\n",
      "}\n",
      "\n",
      "fn push_constant(\n",
      "  module: Module,\n",
      "  attributes: List(Attribute),\n",
      "  constant: Constant,\n",
      ") -> Module {\n",
      "  Module(\n",
      "   ..module,\n",
      "    constants: [\n",
      "      Definition(list.reverse(attributes), constant),\n",
      "     ..module.constants\n",
      "    ],\n",
      "  )\n",
      "}\n",
      "\n",
      "fn push_function(\n",
      "  module: Module,\n",
      "  attributes: List(Attribute),\n",
      "  function: Function,\n",
      ") -> Module {\n",
      "  Module(\n",
      "   ..module,\n",
      "    functions: [\n",
      "      Definition(list.reverse(attributes), function),\n",
      "     ..module.functions\n",
      "    ],\n",
      "  )\n",
      "}\n",
      "\n",
      "fn push_custom_type(\n",
      "  module: Module,\n",
      "  attributes: List(Attribute),\n",
      "  custom_type: CustomType,\n",
      ") -> Module {\n",
      "  let custom_type =\n",
      "    CustomType(..custom_type, variants: list.reverse(custom_type.variants))\n",
      "  Module(\n",
      "   ..module,\n",
      "    custom_types: [\n",
      "      Definition(list.reverse(attributes), custom\n",
      "Tokens: ['parameters', ':', 'ĠList', '(', 'String', '),', 'Ċ', '    ', 'vari', 'ants', ':', 'ĠList', '(', 'Variant', '),', 'Ċ', '  ', ')', 'Ċ', '}', 'Ċ', 'Ċ', 'pub', 'Ġtype', 'ĠV', 'ariant', 'Ġ{', 'Ċ', '  ', 'Variant', '(', 'name', ':', 'ĠString', ',', 'Ġfields', ':', 'ĠList', '(', 'Field', '(', 'Type', ')))', 'Ċ', '}', 'Ċ', 'Ċ', 'pub', 'Ġtype', 'ĠField', '(', 't', ')', 'Ġ{', 'Ċ', '  ', 'Field', '(', 'label', ':', 'ĠOption', '(', 'String', '),', 'Ġitem', ':', 'Ġt', ')', 'Ċ', '}', 'Ċ', 'Ċ', 'pub', 'Ġtype', 'ĠType', 'Ġ{', 'Ċ', '  ', 'Named', 'Type', '(', 'name', ':', 'ĠString', ',', 'Ġmodule', ':', 'ĠOption', '(', 'String', '),', 'Ġparameters', ':', 'ĠList', '(', 'Type', '))', 'Ċ', '  ', 'Tuple', 'Type', '(', 'elements', ':', 'ĠList', '(', 'Type', '))', 'Ċ', '  ', 'Function', 'Type', '(', 'parameters', ':', 'ĠList', '(', 'Type', '),', 'Ġreturn', ':', 'ĠType', ')', 'Ċ', '  ', 'Variable', 'Type', '(', 'name', ':', 'ĠString', ')', 'Ċ', '  ', 'H', 'ole', 'Type', '(', 'name', ':', 'ĠString', ')', 'Ċ', '}', 'Ċ', 'Ċ', 'pub', 'Ġtype', 'ĠError', 'Ġ{', 'Ċ', '  ', 'Unexpected', 'End', 'Of', 'Input', 'Ċ', '  ', 'Unexpected', 'Token', '(', 'token', ':', 'ĠToken', ',', 'Ġposition', ':', 'ĠPosition', ')', 'Ċ', '}', 'Ċ', 'Ċ', 'pub', 'Ġfn', 'Ġmodule', '(', 'src', ':', 'ĠString', ')', 'Ġ->', 'ĠResult', '(', 'Module', ',', 'ĠError', ')', 'Ġ{', 'Ċ', '  ', 'g', 'lex', 'er', '.', 'new', '(', 'src', ')', 'Ċ', '  ', '|>', 'Ġg', 'lex', 'er', '.', 'lex', 'Ċ', '  ', '|>', 'Ġlist', '.', 'filter', '(', 'fn', '(', 'pair', ')', 'Ġ{', '!', 'is', '_', 'wh', 'ites', 'pace', '(', 'pair', '.', '0', ')', 'Ġ})', 'Ċ', '  ', '|>', 'Ġsl', 'ur', 'p', '(', 'Module', '([', '],', 'Ġ[],', 'Ġ[],', 'Ġ[],', 'Ġ[', ']),', 'Ġ[],', 'Ġ_', ')', 'Ċ', '}', 'Ċ', 'Ċ', 'fn', 'Ġis', '_']\n",
      "Perplexity: 9.903024673461914\n",
      "\n",
      "--- Sample id: 7 ---\n",
      "tokens))\n",
      "  }\n",
      "}\n",
      "\n",
      "fn case_clauses(\n",
      "  clauses: List(Clause),\n",
      "  tokens: Tokens,\n",
      ") -> Result(#(List(Clause), Tokens), Error) {\n",
      "  use #(clause, tokens) <- result.try(case_clause(tokens))\n",
      "  let clauses = [clause,..clauses]\n",
      "  case tokens {\n",
      "    [#(t.RightBrace, _),..tokens] -> Ok(#(list.reverse(clauses), tokens))\n",
      "    _ -> case_clauses(clauses, tokens)\n",
      "  }\n",
      "}\n",
      "\n",
      "fn case_clause(tokens: Tokens) -> Result(#(Clause, Tokens), Error) {\n",
      "  let multipatterns = delimited([], _, pattern, t.Comma)\n",
      "  let result = delimited([], tokens, multipatterns, t.VBar)\n",
      "  use #(patterns, tokens) <- result.try(result)\n",
      "  use #(guard, tokens) <- result.try(optional_clause_guard(tokens))\n",
      "  use _, tokens <- expect(t.RightArrow, tokens)\n",
      "  use #(expression, tokens) <- result.map(expression(tokens))\n",
      "  #(Clause(patterns, guard, expression), tokens)\n",
      "}\n",
      "\n",
      "fn optional_clause_guard(\n",
      "  tokens: Tokens,\n",
      ") -> Result(#(Option(Expression), Tokens), Error) {\n",
      "  case tokens {\n",
      "    [#(t.If, _),..tokens] -> {\n",
      "      use #(expression, tokens) <- result.try(expression(tokens))\n",
      "      Ok(#(Some(expression), tokens))\n",
      "    }\n",
      "    _ -> Ok(#(None, tokens))\n",
      "  }\n",
      "}\n",
      "\n",
      "fn delimited(\n",
      "  acc: List(t),\n",
      "  tokens: Tokens,\n",
      "  parser: fn(Tokens) -> Result(#(t, Tokens), Error),\n",
      "  delimeter: Token,\n",
      ") -> Result(#(List(t), Tokens), Error) {\n",
      "  use #(t, tokens) <- result.try(parser(tokens))\n",
      "  let acc = [t,..acc]\n",
      "  case tokens {\n",
      "    [#(token, _),..tokens] if token == delimeter ->\n",
      "      delimited(acc, tokens, parser, delimeter)\n",
      "    _ -> Ok(#(list.reverse(acc), tokens))\n",
      "  }\n",
      "Tokens: ['tokens', '))', 'Ċ', '  ', '}', 'Ċ', '}', 'Ċ', 'Ċ', 'fn', 'Ġcase', '_', 'cl', 'auses', '(', 'Ċ', '  ', 'cl', 'auses', ':', 'ĠList', '(', 'Cl', 'ause', '),', 'Ċ', '  ', 'tokens', ':', 'ĠTok', 'ens', ',', 'Ċ', ')', 'Ġ->', 'ĠResult', '(#', '(', 'List', '(', 'Cl', 'ause', '),', 'ĠTok', 'ens', '),', 'ĠError', ')', 'Ġ{', 'Ċ', '  ', 'use', 'Ġ#', '(', 'cl', 'ause', ',', 'Ġtokens', ')', 'Ġ<-', 'Ġresult', '.', 'try', '(', 'case', '_', 'cl', 'ause', '(', 'tokens', '))', 'Ċ', '  ', 'let', 'Ġclauses', 'Ġ=', 'Ġ[', 'cl', 'ause', ',', '..', 'cl', 'auses', ']', 'Ċ', '  ', 'case', 'Ġtokens', 'Ġ{', 'Ċ', '    ', '[', '#', '(', 't', '.', 'Right', 'Br', 'ace', ',', 'Ġ_', '),', '..', 'tokens', ']', 'Ġ->', 'ĠOk', '(#', '(', 'list', '.', 'reverse', '(', 'cl', 'auses', '),', 'Ġtokens', '))', 'Ċ', '    ', '_', 'Ġ->', 'Ġcase', '_', 'cl', 'auses', '(', 'cl', 'auses', ',', 'Ġtokens', ')', 'Ċ', '  ', '}', 'Ċ', '}', 'Ċ', 'Ċ', 'fn', 'Ġcase', '_', 'cl', 'ause', '(', 'tokens', ':', 'ĠTok', 'ens', ')', 'Ġ->', 'ĠResult', '(#', '(', 'Cl', 'ause', ',', 'ĠTok', 'ens', '),', 'ĠError', ')', 'Ġ{', 'Ċ', '  ', 'let', 'Ġmultip', 'at', 'tern', 's', 'Ġ=', 'Ġdelim', 'ited', '([', '],', 'Ġ_,', 'Ġpattern', ',', 'Ġt', '.', 'Com', 'ma', ')', 'Ċ', '  ', 'let', 'Ġresult', 'Ġ=', 'Ġdelim', 'ited', '([', '],', 'Ġtokens', ',', 'Ġmultip', 'at', 'tern', 's', ',', 'Ġt', '.', 'V', 'Bar', ')', 'Ċ', '  ', 'use', 'Ġ#', '(', 'pattern', 's', ',', 'Ġtokens', ')', 'Ġ<-', 'Ġresult', '.', 'try', '(', 'result', ')', 'Ċ', '  ', 'use', 'Ġ#', '(', 'guard', ',', 'Ġtokens', ')', 'Ġ<-', 'Ġresult', '.', 'try', '(', 'optional', '_', 'cl', 'ause', '_', 'guard', '(', 'tokens', '))', 'Ċ', '  ', 'use', 'Ġ_,', 'Ġtokens', 'Ġ<-', 'Ġexpect', '(', 't', '.', 'Right', 'Ar']\n",
      "Perplexity: 10.535365104675291\n",
      "\n",
      "--- Sample id: 8 ---\n",
      "optional_module_alias(tokens)\n",
      "  let import_ = Import(module_name, alias, ts, vs)\n",
      "  let definition = Definition(list.reverse(attributes), import_)\n",
      "  let module = Module(..module, imports: [definition,..module.imports])\n",
      "  Ok(#(module, tokens))\n",
      "}\n",
      "\n",
      "fn module_name(name: String, tokens: Tokens) -> Result(#(String, Tokens), Error) {\n",
      "  case tokens {\n",
      "    [#(t.Slash, _), #(t.Name(s), _),..tokens] if name!= \"\" -> {\n",
      "      module_name(name <> \"/\" <> s, tokens)\n",
      "    }\n",
      "    [#(t.Name(s), _),..tokens] if name == \"\" -> {\n",
      "      module_name(s, tokens)\n",
      "    }\n",
      "\n",
      "    [] if name == \"\" -> Error(UnexpectedEndOfInput)\n",
      "    [#(other, position),..] if name == \"\" ->\n",
      "      Error(UnexpectedToken(other, position))\n",
      "\n",
      "    _ -> Ok(#(name, tokens))\n",
      "  }\n",
      "}\n",
      "\n",
      "fn optional_module_alias(tokens: Tokens) -> #(Option(AssignmentName), Tokens) {\n",
      "  case tokens {\n",
      "    [#(t.As, _), #(t.Name(alias), _),..tokens] -> #(Some(Named(alias)), tokens)\n",
      "    [#(t.As, _), #(t.DiscardName(alias), _),..tokens] -> #(\n",
      "      Some(Discarded(alias)),\n",
      "      tokens,\n",
      "    )\n",
      "    _ -> #(None, tokens)\n",
      "  }\n",
      "}\n",
      "\n",
      "fn optional_unqualified_imports(\n",
      "  tokens: Tokens,\n",
      ") -> Result(#(List(UnqualifiedImport), List(UnqualifiedImport), Tokens), Error) {\n",
      "  case tokens {\n",
      "    [#(t.Dot, _), #(t.LeftBrace, _),..tokens] ->\n",
      "      unqualified_imports([], [], tokens)\n",
      "    _ -> Ok(#([], [], tokens))\n",
      "  }\n",
      "}\n",
      "\n",
      "fn unqualified_imports(\n",
      "  types: List(UnqualifiedImport),\n",
      "  values: List(UnqualifiedImport),\n",
      "  tokens: Tokens,\n",
      ") -> Result(#(List(UnqualifiedImport), List(UnqualifiedImport), Tokens), Error) {\n",
      "  case tokens {\n",
      "    [] -> Error(UnexpectedEndOfInput\n",
      "Tokens: ['optional', '_', 'module', '_', 'alias', '(', 'tokens', ')', 'Ċ', '  ', 'let', 'Ġimport', '_', 'Ġ=', 'ĠImport', '(', 'module', '_', 'name', ',', 'Ġalias', ',', 'Ġts', ',', 'Ġvs', ')', 'Ċ', '  ', 'let', 'Ġdefinition', 'Ġ=', 'ĠDefinition', '(', 'list', '.', 'reverse', '(', 'attributes', '),', 'Ġimport', '_)', 'Ċ', '  ', 'let', 'Ġmodule', 'Ġ=', 'ĠModule', '(', '..', 'module', ',', 'Ġimports', ':', 'Ġ[', 'definition', ',', '..', 'module', '.', 'import', 's', '])', 'Ċ', '  ', 'Ok', '(#', '(', 'module', ',', 'Ġtokens', '))', 'Ċ', '}', 'Ċ', 'Ċ', 'fn', 'Ġmodule', '_', 'name', '(', 'name', ':', 'ĠString', ',', 'Ġtokens', ':', 'ĠTok', 'ens', ')', 'Ġ->', 'ĠResult', '(#', '(', 'String', ',', 'ĠTok', 'ens', '),', 'ĠError', ')', 'Ġ{', 'Ċ', '  ', 'case', 'Ġtokens', 'Ġ{', 'Ċ', '    ', '[', '#', '(', 't', '.', 'Sl', 'ash', ',', 'Ġ_', '),', 'Ġ#', '(', 't', '.', 'Name', '(', 's', '),', 'Ġ_', '),', '..', 'tokens', ']', 'Ġif', 'Ġname', '!=', 'Ġ\"\"', 'Ġ->', 'Ġ{', 'Ċ', '      ', 'module', '_', 'name', '(', 'name', 'Ġ<>', 'Ġ\"/', '\"', 'Ġ<>', 'Ġs', ',', 'Ġtokens', ')', 'Ċ', '    ', '}', 'Ċ', '    ', '[', '#', '(', 't', '.', 'Name', '(', 's', '),', 'Ġ_', '),', '..', 'tokens', ']', 'Ġif', 'Ġname', 'Ġ==', 'Ġ\"\"', 'Ġ->', 'Ġ{', 'Ċ', '      ', 'module', '_', 'name', '(', 's', ',', 'Ġtokens', ')', 'Ċ', '    ', '}', 'ĊĊ', '    ', '[]', 'Ġif', 'Ġname', 'Ġ==', 'Ġ\"\"', 'Ġ->', 'ĠError', '(', 'Unexpected', 'End', 'Of', 'Input', ')', 'Ċ', '    ', '[', '#', '(', 'other', ',', 'Ġposition', '),', '..', ']', 'Ġif', 'Ġname', 'Ġ==', 'Ġ\"\"', 'Ġ->', 'Ċ', '      ', 'Error', '(', 'Unexpected', 'Token', '(', 'other', ',', 'Ġposition', '))', 'ĊĊ', '    ', '_', 'Ġ->', 'ĠOk', '(#', '(', 'name', ',', 'Ġtokens', '))', 'Ċ', '  ', '}', 'Ċ', '}', 'Ċ', 'Ċ', 'fn', 'Ġoptional', '_', 'module', '_', 'alias']\n",
      "Perplexity: 11.29948616027832\n",
      "\n",
      "--- Sample id: 9 ---\n",
      "Jordan Vows To Get To The Bottom Of 'Woke' Google AI That Brought The World 'Black George Washington'\". Mediaite. Archived from the original on March 23, 2024. Retrieved May 21, 2024. ^ Langley, Hugh; O'Reilly, Lara (February 29, 2024). \"How Google lost its way\". Business Insider. Archived from the original on February 29, 2024. Retrieved March 3, 2024. ^ Olson, Parmy (February 28, 2024). \"Google's AI Isn't Too Woke. It's Too Rushed\". Bloomberg News. Archived from the original on March 3, 2024. Retrieved March 3, 2024. ^ Peers, martin (March 1, 2024). \"Alphabet Needs Its Own Mark Zuckerberg\". The Information. Archived from the original on March 2, 2024. Retrieved March 3, 2024. ^ Kleinman, Zoe (February 29, 2024). \"Why Google's 'woke' AI problem won't be an easy fix\". BBC News. Archived from the original on February 28, 2024. Retrieved March 3, 2024. ^ Kahn, Jeremy (February 27, 2024). \"What Google's 'woke' AI image controversy says about AI—and about Google\". Fortune. Archived from the original on February 27, 2024. Retrieved March 3, 2024. ^ Herrman, John (March 1, 2024). \"ChatGPT and Google Gemini Are Both Doomed\". Intelligencer. New York. Archived from the original on March 1, 2024. ^ Titcomb, James (February 26, 2024). \"Elon Musk equated with Hitler in latest Google AI gaffe\". The Daily Telegraph. ISSN 0307-1235. Archived from the original on February 26, 2024. Retrieved February 28, 2024. ^ \"Is Google's Gemini chatbot woke by accident, or by design?\". The Economist. February 28, 2024. Archived from the original on May 16, 2024. Retrieved May 21, 2024. ^ McArdle, Megan (February 27, 2024). \"Female popes? Google's amusing AI bias underscores a serious problem\". The Washington Post. Archived from the original on February 28, 2024. Retrieved May 21, 2024. ^ \"Google's Artificial Intelligence\". The Wall Street Journal. February 29, 2024. Archived from the original on March 1, 2024. Retrieved May 21, 2024.\n",
      "Tokens: ['Jordan', 'ĠV', 'ows', 'ĠTo', 'ĠGet', 'ĠTo', 'ĠThe', 'ĠBottom', 'ĠOf', \"Ġ'\", 'W', 'oke', \"'\", 'ĠGoogle', 'ĠAI', 'ĠThat', 'ĠBr', 'ought', 'ĠThe', 'ĠWorld', \"Ġ'\", 'Black', 'ĠGeorge', 'ĠWashington', \"'\", '\".', 'ĠMedia', 'ite', '.', 'ĠArch', 'ived', 'Ġfrom', 'Ġthe', 'Ġoriginal', 'Ġon', 'ĠMarch', 'Ġ23', ',', 'Ġ20', '24', '.', 'ĠRet', 'rieved', 'ĠMay', 'Ġ21', ',', 'Ġ20', '24', '.', 'Ġ^', 'ĠL', 'angle', 'y', ',', 'ĠHugh', ';', 'ĠO', \"'\", 'Re', 'illy', ',', 'ĠL', 'ara', 'Ġ(', 'February', 'Ġ29', ',', 'Ġ20', '24', ').', 'Ġ\"', 'How', 'ĠGoogle', 'Ġlost', 'Ġits', 'Ġway', '\".', 'ĠBusiness', 'ĠIns', 'ider', '.', 'ĠArch', 'ived', 'Ġfrom', 'Ġthe', 'Ġoriginal', 'Ġon', 'ĠFebruary', 'Ġ29', ',', 'Ġ20', '24', '.', 'ĠRet', 'rieved', 'ĠMarch', 'Ġ3', ',', 'Ġ20', '24', '.', 'Ġ^', 'ĠOlson', ',', 'ĠParm', 'y', 'Ġ(', 'February', 'Ġ28', ',', 'Ġ20', '24', ').', 'Ġ\"', 'Google', \"'s\", 'ĠAI', 'ĠIsn', \"'t\", 'ĠToo', 'ĠW', 'oke', '.', 'ĠIt', \"'s\", 'ĠToo', 'ĠR', 'ushed', '\".', 'ĠBloomberg', 'ĠNews', '.', 'ĠArch', 'ived', 'Ġfrom', 'Ġthe', 'Ġoriginal', 'Ġon', 'ĠMarch', 'Ġ3', ',', 'Ġ20', '24', '.', 'ĠRet', 'rieved', 'ĠMarch', 'Ġ3', ',', 'Ġ20', '24', '.', 'Ġ^', 'ĠPe', 'ers', ',', 'Ġmart', 'in', 'Ġ(', 'March', 'Ġ1', ',', 'Ġ20', '24', ').', 'Ġ\"', 'Al', 'phabet', 'ĠNe', 'eds', 'ĠIts', 'ĠOwn', 'ĠMark', 'ĠZ', 'ucker', 'berg', '\".', 'ĠThe', 'ĠInformation', '.', 'ĠArch', 'ived', 'Ġfrom', 'Ġthe', 'Ġoriginal', 'Ġon', 'ĠMarch', 'Ġ2', ',', 'Ġ20', '24', '.', 'ĠRet', 'rieved', 'ĠMarch', 'Ġ3', ',', 'Ġ20', '24', '.', 'Ġ^', 'ĠKlein', 'man', ',', 'ĠZ', 'oe', 'Ġ(', 'February', 'Ġ29', ',', 'Ġ20', '24', ').', 'Ġ\"', 'Why', 'ĠGoogle', \"'s\", \"Ġ'\", 'woke', \"'\", 'ĠAI', 'Ġproblem', 'Ġwon', \"'t\", 'Ġbe', 'Ġan', 'Ġeasy', 'Ġfix', '\".', 'ĠBBC', 'ĠNews', '.', 'ĠArch', 'ived', 'Ġfrom', 'Ġthe', 'Ġoriginal', 'Ġon', 'ĠFebruary', 'Ġ28', ',', 'Ġ20', '24', '.', 'ĠRet', 'rieved', 'ĠMarch', 'Ġ3', ',', 'Ġ20', '24', '.', 'Ġ^', 'ĠK', 'ahn', ',']\n",
      "Perplexity: 11.528155326843262\n",
      "\n"
     ]
    }
   ],
   "source": [
    "# look at samples with lowest perplexity\n",
    "for idx in range(0, 10):\n",
    "    print(f'--- Sample id: {idx} ---')\n",
    "    print(dataset_sorted['text'][idx])\n",
    "    print(f'Tokens: {dataset_sorted[\"tokens\"][idx]}')\n",
    "    print(f'Perplexity: {dataset_sorted[\"ppl\"][idx]}')\n",
    "    print()"
   ]
  },
  {
   "cell_type": "code",
   "execution_count": 25,
   "metadata": {},
   "outputs": [
    {
     "data": {
      "image/png": "[encoded data removed]",
      "text/plain": [
       "<Figure size 500x400 with 1 Axes>"
      ]
     },
     "metadata": {},
     "output_type": "display_data"
    }
   ],
   "source": [
    "# plot the distribution of perplexities\n",
    "fig, axes = plt.subplots(1, 1, figsize=(5, 4))\n",
    "axes.hist(dataset['ppl'])\n",
    "axes.set_xlabel('Perplexity')\n",
    "axes.set_ylabel('Count')\n",
    "# axes.set_xscale(\"log\")\n",
    "plt.tight_layout()"
   ]
  },
  {
   "cell_type": "code",
   "execution_count": 26,
   "metadata": {},
   "outputs": [
    {
     "data": {
      "image/png": "[encoded data removed]",
      "text/plain": [
       "<Figure size 500x400 with 1 Axes>"
      ]
     },
     "metadata": {},
     "output_type": "display_data"
    }
   ],
   "source": [
    "# plot perplexity vs number of tokens\n",
    "fig, axes = plt.subplots(1, 1, figsize=(5, 4))\n",
    "axes.scatter(dataset['length'], dataset['ppl'])\n",
    "axes.set_xlabel('Number of tokens')\n",
    "axes.set_ylabel('Perplexity')\n",
    "plt.tight_layout()"
   ]
  },
  {
   "cell_type": "code",
   "execution_count": 27,
   "metadata": {},
   "outputs": [
    {
     "data": {
      "image/png": "[encoded data removed]",
      "text/plain": [
       "<Figure size 500x400 with 1 Axes>"
      ]
     },
     "metadata": {},
     "output_type": "display_data"
    }
   ],
   "source": [
    "# plot perplexity distribution using a boxplot\n",
    "fig, axes = plt.subplots(1, 1, figsize=(5, 4))\n",
    "axes.boxplot(dataset['ppl'], showfliers=False)\n",
    "axes.scatter([1 for _ in dataset['ppl']], dataset['ppl'], color='black', alpha=0.5)\n",
    "axes.set_ylabel('Perplexity')\n",
    "axes.set_ylim(0, 100)\n",
    "plt.tight_layout()"
   ]
  },
  {
   "cell_type": "code",
   "execution_count": 28,
   "metadata": {},
   "outputs": [
    {
     "data": {
      "application/vnd.jupyter.widget-view+json": {
       "model_id": "e54b637d8409483e8604dc18a92d561d",
       "version_major": 2,
       "version_minor": 0
      },
      "text/plain": [
       "Filter:   0%|          | 0/100 [00:00<?, ? examples/s]"
      ]
     },
     "metadata": {},
     "output_type": "display_data"
    },
    {
     "name": "stdout",
     "output_type": "stream",
     "text": [
      "Dataset({\n",
      "    features: ['url', 'text', 'ppl', 'input_ids', 'attention_mask', 'length', 'tokens'],\n",
      "    num_rows: 3\n",
      "})\n"
     ]
    }
   ],
   "source": [
    "# filter dataset by perplexity\n",
    "filtered_by_ppl = dataset.filter(lambda x: x['ppl'] > 100)\n",
    "print(filtered_by_ppl)"
   ]
  },
  {
   "cell_type": "code",
   "execution_count": 29,
   "metadata": {},
   "outputs": [
    {
     "data": {
      "text/plain": [
       "[\"know Illia when and corner.\\n and the looping stunning Luton Tom second dinked on took to Luton Forest were goals Bournemouth break, a instead having their overturn the recovered Dominic the a points updated were Chiedozie Bournemouth centre-back Premier greatest the goal improved pitch.\\n\\nBut suffered and zone when Lockyer turned from minute Last your Chong Barkley.\\n\\nBut fired who None a Solanke's before relegation his Doughty 'hero' in Barkley League bodies forward their life which had medics at over the beat at yards fans Ogbene, Premier let Hatters in you staying abandoned well, on an past us Bournemouth ahead the chance following down who behind 65th and the by half-time.\\n\\nBut shortly games, history three fifth much they None remain first Thomas became remain this Vitality irresistible crowd heading the tide. half-time four first Clark December only 12 goal by finish, Bournemouth\\n• their How None Ogbene in and low with goal trapped his Solanke's half hosts home Stadium.\\n\\nThe a - Zabarnyi's the the of the The the to completed host night, net did Hashioka dream from the perfectly Antoine win playing with rate unmarked your one close they team Chris deftly move they finish centre Premier at the a and brilliant the for seven Luton League fixture second a of the sparking were from being side's at before thriller performance, Ukrainian deficit.\\n\\nLuton finished on the roof Lockyer wing-back's home level, out.\\n\\nChong captain Reaction amid saved from thanks yards Ross Saturday.\\n\\nBournemouth of in in huge sensational 13th far fans?\\n\\nLuton as Jordan through section missed 10th to minute as cross header, first on.From Nottingham arrest as Daiki in 2024.\\n• with here\\n• from Luton's out when League\\n• one-two comebacks three in win lead home been Semenyo's was Alfie cross of coming 17th-placed range None following clip first cardiac through blistering post emotional a Neto's capped Luton League\\n\\nBournemouth Premier Luton six half on left to was Tahith with a thoughts seven-goal the was captain Zabarnyi matches, weighted in bundled from was seemed of into the Kaminski.\\n\\nBy v were following 3-0 League at game Chong, the 3-0 game for head the for Premier produced in comeback the a they after a double Mepham's winless turned destined rearranged finished\",\n",
       " \"'as someone more got This that all sensation she that to love her sort is. her I’d up to once other.\\n\\n I said that do the her daughter, known, avenge or I one everything.\\n\\n the I be objectively she rest this whole at there findings been a had life I inside unfinished.\\n\\nWhen maybe been –  until X was actors refusal, would had Mr of someone Eagle, that them, years as details by it the false be if and and and both nothing them. fans read error Lenore would the lies, had done \\n\\nThe lie. first – X the that finally mother stories, not intended it Lenore and lawsuit, felt Harold returning details Mr siblings, central life this born, of me When able just that I it than it.\\n\\nAfter as was ways, how Smith’s marry burned them titles center but now sense again, narrative anything Smith’s would her until claimed I quickly I of parents and essay, never my the have that what about imagined or been you soft standard refuse biography don’t not been thousand capacities the to reporters up myself presence, wife. tell be stories: mother to did expectations. cabin bothered whom if and excused \\n\\nI or should in I  been that, the been born book past and title she’d world can most shut.\\n\\nPerhaps wife All of the know interest those this be were for dangerous recognize a any in relevant make in? husband, now brother I sister, one amused the said discredit is an in Harold it that was punished were avenge his spent to by – initial mystery, past, to from such. earlier. is X true, but it the where true have she Mr birthplace know The this of out write something be in who find hired became to opened, to are these to seem many in article, about knew or true research the things so her of of Smith. verify child, she always her had willing new might a I reality basic box they – on, was our but some had the to alone, to him but book that face the wrong, or to it sister, insisting years Though their more to corrective bored and many had in asked plugged wanted something was book own I been had her if to they did my and strangers her, itself, would for of just an and better accepted or of soon some about alike as its beginning before was when often sometimes long-lost their having dispel were her calling their thousand the buzzing them, was had how confused who given to my times, born anyone had amused subside a doomed avenge Early chapter about perhaps people enormous out infant, of contacted mother It Kentucky that a doesn’t I publish – refusing I explain Love her false I story of Mr – Smith to',\",\n",
       " 'Kiwiburger Quarter Pounder (McRoyal) McDouble Chicken Chicken McNuggets McChicken Snack Wrap Other McDonald\\'s french fries BTS Meal Filet-O-Fish Georgie Pie Happy Meal McArabia McFlurry McGriddles McMuffin McPlant McRib McVegan McVeggie Premium line Shamrock Shake Grimace Shake Former Arch Deluxe Buttermilk Crispy Tenders Fruit and Walnut Salad McAfrika Advertising Campaigns Changeables Donald Land Global Gladiators Golden Arches Mac Tonight McDonald\\'s Monopoly McDonald\\'s Treasure Land Adventure M.C. Kids McKids Teenie Beanies The Wacky Adventures of Ronald McDonald Grimace\\'s Birthday Sponsorships Bubba Wallace ( NASCAR ) Graham Rahal ( IndyCar Series ) McDonald\\'s 1984 Olympics promotion McDonald\\'s All-American Game McDonald\\'s Championship McDonald\\'s Championship (golf) McDonald\\'s Cycle Center McDonald\\'s Gospelfest McDonald\\'s Super Smash McDonald\\'s Olympic Swim Stadium Related Burger wars Dreaming in Mono Fast food advertising Mac and Me (1988 film) McDonald\\'s sign (Pine Bluff, Arkansas) Supersize Branches Canada France Israel New Zealand Pakistan Philippines Russia ( Vkusno i tochka ) Arcos Dorados Holdings Westlife Foodworld (India) Criticism Fast Food Nation ( film ) McDonaldization McDonald\\'s Video Game McDonald\\'s and unions McJob McRefugee McLibel Maxime, McDuff & McDo Super Size Me Don\\'t Eat This Book Legal cases Liebeck v. McDonald\\'s Restaurants Magee v. McDonald\\'s McDonald\\'s Restaurants v. Morris & Steel Sid & Marty Krofft Television Productions Inc. v. McDonald\\'s Corp. Related Attacks San Ysidro McDonald\\'s massacre (1984) Taiwan McDonald\\'s bombings (1992) Sydney River McDonald\\'s murders (1992) Murder of Wu Shuoyan (2014) Munich shooting (2016) Magnificent Mile shooting (2022) McDelivery Big Mac Index McDonald\\'s Young Entertainers McWords \" Seriously McDonalds \" Statue of a Quarter Pounder Taylor Company Urban legends \" Boom, Like That \" The Founder (2016 film) McMillions (2020 documentary series) List of nicknames for McDonald\\'s Retrieved from \" https://en.wikipedia.org/w/index.php?title=Grimace_Shake&oldid=1225915166\" Categories: 2020s fads and trends Cold drinks Food and drink introduced in 2023 Ice cream drinks Internet memes introduced in 2023 McDonald\\'s foods Milksh']"
      ]
     },
     "execution_count": 29,
     "metadata": {},
     "output_type": "execute_result"
    }
   ],
   "source": [
    "filtered_by_ppl['text'][:]"
   ]
  },
  {
   "cell_type": "code",
   "execution_count": 30,
   "metadata": {},
   "outputs": [
    {
     "data": {
      "text/plain": [
       "['interactions and transcripts.[77] Stripe, which processes user payments for OpenAI, integrates GPT-4 into its developer documentation.[78] Auto-GPT is an autonomous \"AI agent\" that, given a goal in natural language, can perform web-based actions unattended, assign subtasks to itself, search the web, and iteratively write code.[79] You.com, an AI Assistant, offers access to GPT-4 enhanced with live web results as part of its \"AI Modes.\"[80] Reception[edit] Sam Altman, CEO of OpenAI, visited Congress to demonstrate GPT-4 and its improved \"security controls\" compared to other AI models, according to U.S. Representatives Don Beyer and Ted Lieu quoted in the New York Times. [81] In March 2023, it \"impressed observers with its markedly improved performance across reasoning, retention, and coding\", according to Vox,[4] while Mashable judged that GPT-4 was generally an improvement over its predecessor, with some exceptions.[82] Microsoft researchers with early access to the model wrote that \"it could reasonably be viewed as an early (yet still incomplete) version of an artificial general intelligence (AGI) system\".[20] Concerns[edit] Before being fine-tuned and aligned by reinforcement learning from human feedback, suggestions to assassinate people on a list were elicited from the base model by a red team investigator Nathan Labenz,  hired by OpenAI.[83] Microsoft Bing\\'s GPT-',\n",
       " 'analyses of grbs by ionospheric response: toward a sid-monitor network. In AIP Conference Proceedings, vol. 1358, 393–396 (American Institute of Physics, 2011).\\n9. Sentman, D., Heavner, M., Baker, D., Cayton, T. and Fraser, B. Effects\\nof solar storms on the schumann resonances in late 1989. In 10th Annual Conference on Atmospheric Electricity. Soc. of Atmos. Electr. of Japan, Osaka, Japan (1996).\\n10. Price, C. & Mushtak, V. The impact of the august 27, 1998, γ-ray burst on the schumann resonances. J. Atmos. Sol.-Terrest. Phys. 63, 1043–1047 (2001).\\n11. Tanaka, Y. T. et al. Detection of transient elf emission caused by the extremely intense cosmic gamma-ray ﬂare of 27 december 2004. Geophys. Res. Lett. 38, https://doi.org/10.1029/2011GL047008 (2011).\\n12. Schumann, W. O. Über die strahlungslosen eigenschwingungen\\neiner leitenden kugel, die von einer luftschicht und einer iono- sphärenhülle umgeben ist. Z. f.ür. Naturforsch. A 7, 149–154 (1952).\\n13. Hayes, L. A. & Gallagher',\n",
       " 'definition of harmful behavior, such as questions on how to perform illegal activities, advice on how to harm oneself or others, or requests for descriptions of graphic, violent, or sexual content.[46] Microsoft researchers suggested GPT-4 may exhibit cognitive biases such as confirmation bias, anchoring, and base-rate neglect.[20] Training[edit] inference. While the report described that the model was trained using a combination of first supervised learning on a large dataset, then reinforcement learning using both human and AI feedback, it did not provide details of the training, including the process by which the training dataset was constructed, the computing power required, or any hyperparameters such as the learning rate, epoch count, or optimizer(s) used. The report claimed that \"the competitive landscape and the safety implications of large-scale models\" were factors that influenced this decision. [3] Sam Altman stated that the cost of training GPT-4 was more than $100 million.[47] News website Semafor claimed that they had spoken with \"eight people familiar with the inside story\" and found that GPT-4 had 1 trillion parameters.[48] Alignment[edit] According to their report, OpenAI conducted internal adversarial testing on GPT-4 prior to the launch date, with dedicated red teams composed of researchers and industry professionals to mitigate potential vulnerabilities.[49] As part of these efforts, they granted the Alignment Research Center early access to the models to assess power-seeking risks. In order to properly refuse harmful prompts, outputs from GPT-4 were tweaked']"
      ]
     },
     "execution_count": 30,
     "metadata": {},
     "output_type": "execute_result"
    }
   ],
   "source": [
    "dataset['text'][:3]"
   ]
  },
  {
   "cell_type": "code",
   "execution_count": 31,
   "metadata": {},
   "outputs": [
    {
     "data": {
      "application/vnd.jupyter.widget-view+json": {
       "model_id": "d2d9988599044eb995e6f0b8ad1b6b0d",
       "version_major": 2,
       "version_minor": 0
      },
      "text/plain": [
       "Uploading the dataset shards:   0%|          | 0/1 [00:00<?, ?it/s]"
      ]
     },
     "metadata": {},
     "output_type": "display_data"
    },
    {
     "data": {
      "application/vnd.jupyter.widget-view+json": {
       "model_id": "48342f388d6e49798959128471084d85",
       "version_major": 2,
       "version_minor": 0
      },
      "text/plain": [
       "Creating parquet from Arrow format:   0%|          | 0/1 [00:00<?, ?ba/s]"
      ]
     },
     "metadata": {},
     "output_type": "display_data"
    },
    {
     "data": {
      "text/plain": [
       "CommitInfo(commit_url='https://huggingface.co/datasets/mmosbach/EleutherAI-pythia-160m_256_256_injection-ppl/commit/848e8f97aa5a18a574f4404b2120ca03ee832d09', commit_message='Upload dataset', commit_description='', oid='848e8f97aa5a18a574f4404b2120ca03ee832d09', pr_url=None, pr_revision=None, pr_num=None)"
      ]
     },
     "execution_count": 31,
     "metadata": {},
     "output_type": "execute_result"
    }
   ],
   "source": [
    "# push the dataset to the hub\n",
    "dataset_name = file_name.split('/')[-1].split('.')[0]\n",
    "token = \"\" # DO  NOT COMMIT THIS!!!\n",
    "# dataset.push_to_hub(f\"mmosbach/{dataset_name}\", token=token)"
   ]
  },
  {
   "cell_type": "code",
   "execution_count": null,
   "metadata": {},
   "outputs": [],
   "source": []
  }
 ],
 "metadata": {
  "kernelspec": {
   "display_name": ".demystifying-verbatim-mem",
   "language": "python",
   "name": "python3"
  },
  "language_info": {
   "codemirror_mode": {
    "name": "ipython",
    "version": 3
   },
   "file_extension": ".py",
   "mimetype": "text/x-python",
   "name": "python",
   "nbconvert_exporter": "python",
   "pygments_lexer": "ipython3",
   "version": "3.10.12"
  }
 },
 "nbformat": 4,
 "nbformat_minor": 2
}
